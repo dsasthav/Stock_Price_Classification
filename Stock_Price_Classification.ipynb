{
 "cells": [
  {
   "cell_type": "markdown",
   "metadata": {},
   "source": [
    "# Stock Price Classification Exercise"
   ]
  },
  {
   "cell_type": "markdown",
   "metadata": {},
   "source": [
    "The goal of this exercise is purely an exploratory analysis to determine if we can use a few common technical indicators to predict day-ahead changes in a stock price. We will not be predicting the exact amount of a price increase, just whether the stock increased or decreased the following day. A model like this could be used to inform traders on when to open long positions in specific tickers. We will use one sample stock ticker, ULTI, for the purpose of this analysis. We will test various technical indicators and measure the importance of each one. Then, we will test several classification models to determine if any have predictive ability for day-ahead stock price changes."
   ]
  },
  {
   "cell_type": "markdown",
   "metadata": {},
   "source": [
    "## Step 0: Import Libraries"
   ]
  },
  {
   "cell_type": "code",
   "execution_count": 1,
   "metadata": {},
   "outputs": [
    {
     "name": "stdout",
     "output_type": "stream",
     "text": [
      "Libraries imported successfully!\n"
     ]
    }
   ],
   "source": [
    "import pandas as pd\n",
    "import numpy as np\n",
    "import matplotlib.pyplot as plt\n",
    "import seaborn as sns\n",
    "import datetime\n",
    "from statsmodels.formula.api import ols\n",
    "from sklearn.tree import DecisionTreeClassifier\n",
    "from sklearn.ensemble import RandomForestClassifier\n",
    "from sklearn.svm import SVC\n",
    "from sklearn.neural_network import MLPClassifier\n",
    "from sklearn.metrics import accuracy_score, recall_score, precision_score, confusion_matrix, roc_curve, auc\n",
    "\n",
    "print(\"Libraries imported successfully!\")"
   ]
  },
  {
   "cell_type": "markdown",
   "metadata": {},
   "source": [
    "## Step 1: Import Data"
   ]
  },
  {
   "cell_type": "markdown",
   "metadata": {},
   "source": [
    "The data we will be using is in a CSV file, stored in the same folder."
   ]
  },
  {
   "cell_type": "code",
   "execution_count": 2,
   "metadata": {},
   "outputs": [
    {
     "data": {
      "text/html": [
       "<div>\n",
       "<style scoped>\n",
       "    .dataframe tbody tr th:only-of-type {\n",
       "        vertical-align: middle;\n",
       "    }\n",
       "\n",
       "    .dataframe tbody tr th {\n",
       "        vertical-align: top;\n",
       "    }\n",
       "\n",
       "    .dataframe thead th {\n",
       "        text-align: right;\n",
       "    }\n",
       "</style>\n",
       "<table border=\"1\" class=\"dataframe\">\n",
       "  <thead>\n",
       "    <tr style=\"text-align: right;\">\n",
       "      <th></th>\n",
       "      <th>Open</th>\n",
       "      <th>High</th>\n",
       "      <th>Low</th>\n",
       "      <th>Close</th>\n",
       "      <th>Adj Close</th>\n",
       "      <th>Volume</th>\n",
       "    </tr>\n",
       "    <tr>\n",
       "      <th>Date</th>\n",
       "      <th></th>\n",
       "      <th></th>\n",
       "      <th></th>\n",
       "      <th></th>\n",
       "      <th></th>\n",
       "      <th></th>\n",
       "    </tr>\n",
       "  </thead>\n",
       "  <tbody>\n",
       "    <tr>\n",
       "      <td>1998-06-17</td>\n",
       "      <td>8.500</td>\n",
       "      <td>9.3750</td>\n",
       "      <td>8.3125</td>\n",
       "      <td>9.0000</td>\n",
       "      <td>9.0000</td>\n",
       "      <td>66800</td>\n",
       "    </tr>\n",
       "    <tr>\n",
       "      <td>1998-06-18</td>\n",
       "      <td>9.250</td>\n",
       "      <td>9.2500</td>\n",
       "      <td>8.7500</td>\n",
       "      <td>8.7500</td>\n",
       "      <td>8.7500</td>\n",
       "      <td>16200</td>\n",
       "    </tr>\n",
       "    <tr>\n",
       "      <td>1998-06-19</td>\n",
       "      <td>8.875</td>\n",
       "      <td>8.9375</td>\n",
       "      <td>8.5000</td>\n",
       "      <td>8.9375</td>\n",
       "      <td>8.9375</td>\n",
       "      <td>24000</td>\n",
       "    </tr>\n",
       "    <tr>\n",
       "      <td>1998-06-22</td>\n",
       "      <td>8.875</td>\n",
       "      <td>8.8750</td>\n",
       "      <td>8.3750</td>\n",
       "      <td>8.7500</td>\n",
       "      <td>8.7500</td>\n",
       "      <td>25700</td>\n",
       "    </tr>\n",
       "    <tr>\n",
       "      <td>1998-06-23</td>\n",
       "      <td>8.375</td>\n",
       "      <td>8.7500</td>\n",
       "      <td>8.2500</td>\n",
       "      <td>8.6875</td>\n",
       "      <td>8.6875</td>\n",
       "      <td>20900</td>\n",
       "    </tr>\n",
       "  </tbody>\n",
       "</table>\n",
       "</div>"
      ],
      "text/plain": [
       "             Open    High     Low   Close  Adj Close  Volume\n",
       "Date                                                        \n",
       "1998-06-17  8.500  9.3750  8.3125  9.0000     9.0000   66800\n",
       "1998-06-18  9.250  9.2500  8.7500  8.7500     8.7500   16200\n",
       "1998-06-19  8.875  8.9375  8.5000  8.9375     8.9375   24000\n",
       "1998-06-22  8.875  8.8750  8.3750  8.7500     8.7500   25700\n",
       "1998-06-23  8.375  8.7500  8.2500  8.6875     8.6875   20900"
      ]
     },
     "execution_count": 2,
     "metadata": {},
     "output_type": "execute_result"
    }
   ],
   "source": [
    "# Load data using pandas\n",
    "stock_data = pd.read_csv(\"ULTI All Data.csv\", index_col = 0, parse_dates=True)\n",
    "stock_data.head()"
   ]
  },
  {
   "cell_type": "markdown",
   "metadata": {},
   "source": [
    "## Step 2: Visualize data"
   ]
  },
  {
   "cell_type": "code",
   "execution_count": 3,
   "metadata": {},
   "outputs": [
    {
     "data": {
      "image/png": "[encoded data removed]",
      "text/plain": [
       "<Figure size 1440x360 with 3 Axes>"
      ]
     },
     "metadata": {
      "needs_background": "light"
     },
     "output_type": "display_data"
    }
   ],
   "source": [
    "plt.figure(1, figsize=(20,5))\n",
    "\n",
    "# Plot the close price\n",
    "plt.subplot(131)\n",
    "stock_data[\"Close\"].plot()\n",
    "plt.title(\"Ultimate Software Close Price\")\n",
    "plt.xlabel(\"Date\")\n",
    "plt.ylabel(\"Close\")\n",
    "\n",
    "# Plot the adjusted closing price\n",
    "plt.subplot(132)\n",
    "stock_data[\"Adj Close\"].plot()\n",
    "plt.title(\"Ultimate Software Adjusted Close Price\")\n",
    "plt.xlabel(\"Date\")\n",
    "plt.ylabel(\"Adj. Close\")\n",
    "\n",
    "# Plot the trading volume\n",
    "plt.subplot(133)\n",
    "stock_data[\"Volume\"].plot()\n",
    "plt.title(\"Ultimate Software Volume\")\n",
    "plt.xlabel(\"Date\")\n",
    "plt.ylabel(\"Volume\")\n",
    "\n",
    "plt.show()"
   ]
  },
  {
   "cell_type": "markdown",
   "metadata": {},
   "source": [
    "## Step 3: Feature Engineering"
   ]
  },
  {
   "cell_type": "markdown",
   "metadata": {},
   "source": [
    "### Step 3a: Define the target variable"
   ]
  },
  {
   "cell_type": "markdown",
   "metadata": {},
   "source": [
    "The first step is to define the target variable. We are trying to build a model that can predict if the stock price is going to increase or decrease on the following day of trading based on the information we have at market close. The target variable will be defined as a binary variable indicating a day over day Increase (True) or day over day Decrease (False)."
   ]
  },
  {
   "cell_type": "code",
   "execution_count": 4,
   "metadata": {},
   "outputs": [
    {
     "data": {
      "text/html": [
       "<div>\n",
       "<style scoped>\n",
       "    .dataframe tbody tr th:only-of-type {\n",
       "        vertical-align: middle;\n",
       "    }\n",
       "\n",
       "    .dataframe tbody tr th {\n",
       "        vertical-align: top;\n",
       "    }\n",
       "\n",
       "    .dataframe thead th {\n",
       "        text-align: right;\n",
       "    }\n",
       "</style>\n",
       "<table border=\"1\" class=\"dataframe\">\n",
       "  <thead>\n",
       "    <tr style=\"text-align: right;\">\n",
       "      <th></th>\n",
       "      <th>Open</th>\n",
       "      <th>High</th>\n",
       "      <th>Low</th>\n",
       "      <th>Close</th>\n",
       "      <th>Adj Close</th>\n",
       "      <th>Volume</th>\n",
       "      <th>Next Day Increase</th>\n",
       "      <th>Target</th>\n",
       "    </tr>\n",
       "    <tr>\n",
       "      <th>Date</th>\n",
       "      <th></th>\n",
       "      <th></th>\n",
       "      <th></th>\n",
       "      <th></th>\n",
       "      <th></th>\n",
       "      <th></th>\n",
       "      <th></th>\n",
       "      <th></th>\n",
       "    </tr>\n",
       "  </thead>\n",
       "  <tbody>\n",
       "    <tr>\n",
       "      <td>1998-06-17</td>\n",
       "      <td>8.500</td>\n",
       "      <td>9.3750</td>\n",
       "      <td>8.3125</td>\n",
       "      <td>9.0000</td>\n",
       "      <td>9.0000</td>\n",
       "      <td>66800</td>\n",
       "      <td>-0.2500</td>\n",
       "      <td>False</td>\n",
       "    </tr>\n",
       "    <tr>\n",
       "      <td>1998-06-18</td>\n",
       "      <td>9.250</td>\n",
       "      <td>9.2500</td>\n",
       "      <td>8.7500</td>\n",
       "      <td>8.7500</td>\n",
       "      <td>8.7500</td>\n",
       "      <td>16200</td>\n",
       "      <td>0.1875</td>\n",
       "      <td>True</td>\n",
       "    </tr>\n",
       "    <tr>\n",
       "      <td>1998-06-19</td>\n",
       "      <td>8.875</td>\n",
       "      <td>8.9375</td>\n",
       "      <td>8.5000</td>\n",
       "      <td>8.9375</td>\n",
       "      <td>8.9375</td>\n",
       "      <td>24000</td>\n",
       "      <td>-0.1875</td>\n",
       "      <td>False</td>\n",
       "    </tr>\n",
       "    <tr>\n",
       "      <td>1998-06-22</td>\n",
       "      <td>8.875</td>\n",
       "      <td>8.8750</td>\n",
       "      <td>8.3750</td>\n",
       "      <td>8.7500</td>\n",
       "      <td>8.7500</td>\n",
       "      <td>25700</td>\n",
       "      <td>-0.0625</td>\n",
       "      <td>False</td>\n",
       "    </tr>\n",
       "    <tr>\n",
       "      <td>1998-06-23</td>\n",
       "      <td>8.375</td>\n",
       "      <td>8.7500</td>\n",
       "      <td>8.2500</td>\n",
       "      <td>8.6875</td>\n",
       "      <td>8.6875</td>\n",
       "      <td>20900</td>\n",
       "      <td>-0.6875</td>\n",
       "      <td>False</td>\n",
       "    </tr>\n",
       "  </tbody>\n",
       "</table>\n",
       "</div>"
      ],
      "text/plain": [
       "             Open    High     Low   Close  Adj Close  Volume  \\\n",
       "Date                                                           \n",
       "1998-06-17  8.500  9.3750  8.3125  9.0000     9.0000   66800   \n",
       "1998-06-18  9.250  9.2500  8.7500  8.7500     8.7500   16200   \n",
       "1998-06-19  8.875  8.9375  8.5000  8.9375     8.9375   24000   \n",
       "1998-06-22  8.875  8.8750  8.3750  8.7500     8.7500   25700   \n",
       "1998-06-23  8.375  8.7500  8.2500  8.6875     8.6875   20900   \n",
       "\n",
       "            Next Day Increase  Target  \n",
       "Date                                   \n",
       "1998-06-17            -0.2500   False  \n",
       "1998-06-18             0.1875    True  \n",
       "1998-06-19            -0.1875   False  \n",
       "1998-06-22            -0.0625   False  \n",
       "1998-06-23            -0.6875   False  "
      ]
     },
     "execution_count": 4,
     "metadata": {},
     "output_type": "execute_result"
    }
   ],
   "source": [
    "# Define target variable\n",
    "stock_data[\"Next Day Increase\"] = stock_data[\"Close\"].shift(-1) - stock_data[\"Close\"]\n",
    "stock_data[\"Target\"] = stock_data[\"Next Day Increase\"]>0\n",
    "\n",
    "stock_data.head()"
   ]
  },
  {
   "cell_type": "markdown",
   "metadata": {},
   "source": [
    "### Step 3b: Bollinger Bands"
   ]
  },
  {
   "cell_type": "markdown",
   "metadata": {},
   "source": [
    "The first price indicators we will use are called Bollinger Bands. Bollinger Bands consist of a moving average plus a higher line representing the moving average plus a set number of standard deviations above the moving average as well as a lower line representing the same number of standard deviations below the line. The more volatile the stock, the wider the band will be.\n",
    "\n",
    "A common use is the contrarian strategy, in which the investor sells when it hits the higher band and buys when it hits the lower band. The strategy assumes the price tends to stay within the bands.\n",
    "\n",
    "We will calculate the ratio of the current day price to each of the bands, using a 60 day time window and 2 standard deviations.\n",
    "\n",
    "More info on Bollinger Bands: https://www.investopedia.com/articles/technical/102201.asp"
   ]
  },
  {
   "cell_type": "code",
   "execution_count": 5,
   "metadata": {},
   "outputs": [
    {
     "data": {
      "text/html": [
       "<div>\n",
       "<style scoped>\n",
       "    .dataframe tbody tr th:only-of-type {\n",
       "        vertical-align: middle;\n",
       "    }\n",
       "\n",
       "    .dataframe tbody tr th {\n",
       "        vertical-align: top;\n",
       "    }\n",
       "\n",
       "    .dataframe thead th {\n",
       "        text-align: right;\n",
       "    }\n",
       "</style>\n",
       "<table border=\"1\" class=\"dataframe\">\n",
       "  <thead>\n",
       "    <tr style=\"text-align: right;\">\n",
       "      <th></th>\n",
       "      <th>Close</th>\n",
       "      <th>BB_MA</th>\n",
       "      <th>BB_Upper</th>\n",
       "      <th>BB_Lower</th>\n",
       "      <th>Close_vs_BB_Upper</th>\n",
       "      <th>Close_vs_BB_Lower</th>\n",
       "    </tr>\n",
       "    <tr>\n",
       "      <th>Date</th>\n",
       "      <th></th>\n",
       "      <th></th>\n",
       "      <th></th>\n",
       "      <th></th>\n",
       "      <th></th>\n",
       "      <th></th>\n",
       "    </tr>\n",
       "  </thead>\n",
       "  <tbody>\n",
       "    <tr>\n",
       "      <td>1998-06-17</td>\n",
       "      <td>9.0000</td>\n",
       "      <td>NaN</td>\n",
       "      <td>NaN</td>\n",
       "      <td>NaN</td>\n",
       "      <td>NaN</td>\n",
       "      <td>NaN</td>\n",
       "    </tr>\n",
       "    <tr>\n",
       "      <td>1998-06-18</td>\n",
       "      <td>8.7500</td>\n",
       "      <td>NaN</td>\n",
       "      <td>NaN</td>\n",
       "      <td>NaN</td>\n",
       "      <td>NaN</td>\n",
       "      <td>NaN</td>\n",
       "    </tr>\n",
       "    <tr>\n",
       "      <td>1998-06-19</td>\n",
       "      <td>8.9375</td>\n",
       "      <td>8.895833</td>\n",
       "      <td>9.156042</td>\n",
       "      <td>8.635625</td>\n",
       "      <td>0.976131</td>\n",
       "      <td>1.034957</td>\n",
       "    </tr>\n",
       "    <tr>\n",
       "      <td>1998-06-22</td>\n",
       "      <td>8.7500</td>\n",
       "      <td>8.859375</td>\n",
       "      <td>9.117069</td>\n",
       "      <td>8.601681</td>\n",
       "      <td>0.959738</td>\n",
       "      <td>1.017243</td>\n",
       "    </tr>\n",
       "    <tr>\n",
       "      <td>1998-06-23</td>\n",
       "      <td>8.6875</td>\n",
       "      <td>8.825000</td>\n",
       "      <td>9.095994</td>\n",
       "      <td>8.554006</td>\n",
       "      <td>0.955091</td>\n",
       "      <td>1.015606</td>\n",
       "    </tr>\n",
       "    <tr>\n",
       "      <td>1998-06-24</td>\n",
       "      <td>8.0000</td>\n",
       "      <td>8.687500</td>\n",
       "      <td>9.403391</td>\n",
       "      <td>7.971609</td>\n",
       "      <td>0.850757</td>\n",
       "      <td>1.003562</td>\n",
       "    </tr>\n",
       "    <tr>\n",
       "      <td>1998-06-25</td>\n",
       "      <td>9.2500</td>\n",
       "      <td>8.767857</td>\n",
       "      <td>9.547528</td>\n",
       "      <td>7.988186</td>\n",
       "      <td>0.968837</td>\n",
       "      <td>1.157960</td>\n",
       "    </tr>\n",
       "    <tr>\n",
       "      <td>1998-06-26</td>\n",
       "      <td>9.4375</td>\n",
       "      <td>8.851562</td>\n",
       "      <td>9.714845</td>\n",
       "      <td>7.988280</td>\n",
       "      <td>0.971451</td>\n",
       "      <td>1.181418</td>\n",
       "    </tr>\n",
       "    <tr>\n",
       "      <td>1998-06-29</td>\n",
       "      <td>9.0000</td>\n",
       "      <td>8.868056</td>\n",
       "      <td>9.681623</td>\n",
       "      <td>8.054488</td>\n",
       "      <td>0.929596</td>\n",
       "      <td>1.117389</td>\n",
       "    </tr>\n",
       "    <tr>\n",
       "      <td>1998-06-30</td>\n",
       "      <td>9.3125</td>\n",
       "      <td>8.912500</td>\n",
       "      <td>9.729422</td>\n",
       "      <td>8.095578</td>\n",
       "      <td>0.957148</td>\n",
       "      <td>1.150319</td>\n",
       "    </tr>\n",
       "    <tr>\n",
       "      <td>1998-07-01</td>\n",
       "      <td>9.2500</td>\n",
       "      <td>8.943182</td>\n",
       "      <td>9.744459</td>\n",
       "      <td>8.141904</td>\n",
       "      <td>0.949257</td>\n",
       "      <td>1.136098</td>\n",
       "    </tr>\n",
       "  </tbody>\n",
       "</table>\n",
       "</div>"
      ],
      "text/plain": [
       "             Close     BB_MA  BB_Upper  BB_Lower  Close_vs_BB_Upper  \\\n",
       "Date                                                                  \n",
       "1998-06-17  9.0000       NaN       NaN       NaN                NaN   \n",
       "1998-06-18  8.7500       NaN       NaN       NaN                NaN   \n",
       "1998-06-19  8.9375  8.895833  9.156042  8.635625           0.976131   \n",
       "1998-06-22  8.7500  8.859375  9.117069  8.601681           0.959738   \n",
       "1998-06-23  8.6875  8.825000  9.095994  8.554006           0.955091   \n",
       "1998-06-24  8.0000  8.687500  9.403391  7.971609           0.850757   \n",
       "1998-06-25  9.2500  8.767857  9.547528  7.988186           0.968837   \n",
       "1998-06-26  9.4375  8.851562  9.714845  7.988280           0.971451   \n",
       "1998-06-29  9.0000  8.868056  9.681623  8.054488           0.929596   \n",
       "1998-06-30  9.3125  8.912500  9.729422  8.095578           0.957148   \n",
       "1998-07-01  9.2500  8.943182  9.744459  8.141904           0.949257   \n",
       "\n",
       "            Close_vs_BB_Lower  \n",
       "Date                           \n",
       "1998-06-17                NaN  \n",
       "1998-06-18                NaN  \n",
       "1998-06-19           1.034957  \n",
       "1998-06-22           1.017243  \n",
       "1998-06-23           1.015606  \n",
       "1998-06-24           1.003562  \n",
       "1998-06-25           1.157960  \n",
       "1998-06-26           1.181418  \n",
       "1998-06-29           1.117389  \n",
       "1998-06-30           1.150319  \n",
       "1998-07-01           1.136098  "
      ]
     },
     "execution_count": 5,
     "metadata": {},
     "output_type": "execute_result"
    }
   ],
   "source": [
    "# Define parameters for moving average\n",
    "bb_time_window = 60\n",
    "\n",
    "# Define moving averages for closing price\n",
    "stock_data[\"BB_MA\"] = stock_data[\"Close\"].rolling(window=bb_time_window, min_periods=3).mean()\n",
    "\n",
    "# Define the upper band\n",
    "stock_data[\"BB_Upper\"] = stock_data[\"BB_MA\"]+2*stock_data[\"Close\"].rolling(window=bb_time_window, min_periods=3).std()\n",
    "stock_data[\"BB_Lower\"] = stock_data[\"BB_MA\"]-2*stock_data[\"Close\"].rolling(window=bb_time_window, min_periods=3).std()\n",
    "\n",
    "# Define comparison to upper and lower bands as ratios\n",
    "stock_data[\"Close_vs_BB_Upper\"] = stock_data[\"Close\"]/stock_data[\"BB_Upper\"]\n",
    "stock_data[\"Close_vs_BB_Lower\"] = stock_data[\"Close\"]/stock_data[\"BB_Lower\"]\n",
    "\n",
    "stock_data[[\"Close\",\"BB_MA\",\"BB_Upper\",\"BB_Lower\",\"Close_vs_BB_Upper\",\"Close_vs_BB_Lower\"]].head(11)"
   ]
  },
  {
   "cell_type": "markdown",
   "metadata": {},
   "source": [
    "### Step 3c: Moving Average Convergence Divergence"
   ]
  },
  {
   "cell_type": "markdown",
   "metadata": {},
   "source": [
    "https://www.investopedia.com/terms/m/macd.asp"
   ]
  },
  {
   "cell_type": "code",
   "execution_count": 6,
   "metadata": {},
   "outputs": [
    {
     "data": {
      "text/html": [
       "<div>\n",
       "<style scoped>\n",
       "    .dataframe tbody tr th:only-of-type {\n",
       "        vertical-align: middle;\n",
       "    }\n",
       "\n",
       "    .dataframe tbody tr th {\n",
       "        vertical-align: top;\n",
       "    }\n",
       "\n",
       "    .dataframe thead th {\n",
       "        text-align: right;\n",
       "    }\n",
       "</style>\n",
       "<table border=\"1\" class=\"dataframe\">\n",
       "  <thead>\n",
       "    <tr style=\"text-align: right;\">\n",
       "      <th></th>\n",
       "      <th>Close</th>\n",
       "      <th>MACD_Short</th>\n",
       "      <th>MACD_Long</th>\n",
       "      <th>MACD_Line</th>\n",
       "      <th>MACD_Signal</th>\n",
       "    </tr>\n",
       "    <tr>\n",
       "      <th>Date</th>\n",
       "      <th></th>\n",
       "      <th></th>\n",
       "      <th></th>\n",
       "      <th></th>\n",
       "      <th></th>\n",
       "    </tr>\n",
       "  </thead>\n",
       "  <tbody>\n",
       "    <tr>\n",
       "      <td>1998-06-17</td>\n",
       "      <td>9.0000</td>\n",
       "      <td>9.000000</td>\n",
       "      <td>9.000000</td>\n",
       "      <td>0.000000</td>\n",
       "      <td>0.000000</td>\n",
       "    </tr>\n",
       "    <tr>\n",
       "      <td>1998-06-18</td>\n",
       "      <td>8.7500</td>\n",
       "      <td>8.864583</td>\n",
       "      <td>8.870192</td>\n",
       "      <td>-0.005609</td>\n",
       "      <td>-0.003116</td>\n",
       "    </tr>\n",
       "    <tr>\n",
       "      <td>1998-06-19</td>\n",
       "      <td>8.9375</td>\n",
       "      <td>8.893043</td>\n",
       "      <td>8.894375</td>\n",
       "      <td>-0.001333</td>\n",
       "      <td>-0.002385</td>\n",
       "    </tr>\n",
       "    <tr>\n",
       "      <td>1998-06-22</td>\n",
       "      <td>8.7500</td>\n",
       "      <td>8.847890</td>\n",
       "      <td>8.854014</td>\n",
       "      <td>-0.006125</td>\n",
       "      <td>-0.003652</td>\n",
       "    </tr>\n",
       "    <tr>\n",
       "      <td>1998-06-23</td>\n",
       "      <td>8.6875</td>\n",
       "      <td>8.804312</td>\n",
       "      <td>8.815399</td>\n",
       "      <td>-0.011087</td>\n",
       "      <td>-0.005864</td>\n",
       "    </tr>\n",
       "  </tbody>\n",
       "</table>\n",
       "</div>"
      ],
      "text/plain": [
       "             Close  MACD_Short  MACD_Long  MACD_Line  MACD_Signal\n",
       "Date                                                             \n",
       "1998-06-17  9.0000    9.000000   9.000000   0.000000     0.000000\n",
       "1998-06-18  8.7500    8.864583   8.870192  -0.005609    -0.003116\n",
       "1998-06-19  8.9375    8.893043   8.894375  -0.001333    -0.002385\n",
       "1998-06-22  8.7500    8.847890   8.854014  -0.006125    -0.003652\n",
       "1998-06-23  8.6875    8.804312   8.815399  -0.011087    -0.005864"
      ]
     },
     "execution_count": 6,
     "metadata": {},
     "output_type": "execute_result"
    }
   ],
   "source": [
    "# Define parameters for MACD\n",
    "macd_short = 12\n",
    "macd_long = 26\n",
    "macd_signal = 9\n",
    "\n",
    "stock_data[\"MACD_Short\"] = stock_data[\"Close\"].ewm(span=macd_short).mean()\n",
    "stock_data[\"MACD_Long\"] = stock_data[\"Close\"].ewm(span=macd_long).mean()\n",
    "stock_data[\"MACD_Line\"] = stock_data[\"MACD_Short\"] - stock_data[\"MACD_Long\"]\n",
    "stock_data[\"MACD_Signal\"] = stock_data[\"MACD_Line\"].ewm(span=macd_signal).mean() # this is the indicator we will use in the model\n",
    "\n",
    "stock_data[[\"Close\",\"MACD_Short\",\"MACD_Long\",\"MACD_Line\", \"MACD_Signal\"]].head()"
   ]
  },
  {
   "cell_type": "markdown",
   "metadata": {},
   "source": [
    "### Step 3d: Relative Strength Index"
   ]
  },
  {
   "cell_type": "markdown",
   "metadata": {},
   "source": [
    "https://www.investopedia.com/terms/r/rsi.asp"
   ]
  },
  {
   "cell_type": "code",
   "execution_count": 7,
   "metadata": {},
   "outputs": [
    {
     "name": "stderr",
     "output_type": "stream",
     "text": [
      "C:\\Users\\sasth\\Anaconda3\\lib\\site-packages\\ipykernel_launcher.py:8: FutureWarning: Currently, 'apply' passes the values as ndarrays to the applied function. In the future, this will change to passing it as Series objects. You need to specify 'raw=True' to keep the current behaviour, and you can pass 'raw=False' to silence this warning\n",
      "  \n",
      "C:\\Users\\sasth\\Anaconda3\\lib\\site-packages\\ipykernel_launcher.py:9: FutureWarning: Currently, 'apply' passes the values as ndarrays to the applied function. In the future, this will change to passing it as Series objects. You need to specify 'raw=True' to keep the current behaviour, and you can pass 'raw=False' to silence this warning\n",
      "  if __name__ == '__main__':\n"
     ]
    },
    {
     "data": {
      "text/html": [
       "<div>\n",
       "<style scoped>\n",
       "    .dataframe tbody tr th:only-of-type {\n",
       "        vertical-align: middle;\n",
       "    }\n",
       "\n",
       "    .dataframe tbody tr th {\n",
       "        vertical-align: top;\n",
       "    }\n",
       "\n",
       "    .dataframe thead th {\n",
       "        text-align: right;\n",
       "    }\n",
       "</style>\n",
       "<table border=\"1\" class=\"dataframe\">\n",
       "  <thead>\n",
       "    <tr style=\"text-align: right;\">\n",
       "      <th></th>\n",
       "      <th>Open</th>\n",
       "      <th>Close</th>\n",
       "      <th>Daily Change</th>\n",
       "      <th>AvgGain</th>\n",
       "      <th>AvgLoss</th>\n",
       "      <th>RS</th>\n",
       "      <th>RSI</th>\n",
       "    </tr>\n",
       "    <tr>\n",
       "      <th>Date</th>\n",
       "      <th></th>\n",
       "      <th></th>\n",
       "      <th></th>\n",
       "      <th></th>\n",
       "      <th></th>\n",
       "      <th></th>\n",
       "      <th></th>\n",
       "    </tr>\n",
       "  </thead>\n",
       "  <tbody>\n",
       "    <tr>\n",
       "      <td>1998-07-01</td>\n",
       "      <td>9.3750</td>\n",
       "      <td>9.250</td>\n",
       "      <td>-0.1250</td>\n",
       "      <td>NaN</td>\n",
       "      <td>NaN</td>\n",
       "      <td>NaN</td>\n",
       "      <td>NaN</td>\n",
       "    </tr>\n",
       "    <tr>\n",
       "      <td>1998-07-02</td>\n",
       "      <td>9.2500</td>\n",
       "      <td>9.625</td>\n",
       "      <td>0.3750</td>\n",
       "      <td>NaN</td>\n",
       "      <td>NaN</td>\n",
       "      <td>NaN</td>\n",
       "      <td>NaN</td>\n",
       "    </tr>\n",
       "    <tr>\n",
       "      <td>1998-07-06</td>\n",
       "      <td>9.5000</td>\n",
       "      <td>9.625</td>\n",
       "      <td>0.1250</td>\n",
       "      <td>NaN</td>\n",
       "      <td>NaN</td>\n",
       "      <td>NaN</td>\n",
       "      <td>NaN</td>\n",
       "    </tr>\n",
       "    <tr>\n",
       "      <td>1998-07-07</td>\n",
       "      <td>9.3750</td>\n",
       "      <td>9.625</td>\n",
       "      <td>0.2500</td>\n",
       "      <td>0.368056</td>\n",
       "      <td>0.250000</td>\n",
       "      <td>1.472222</td>\n",
       "      <td>59.550562</td>\n",
       "    </tr>\n",
       "    <tr>\n",
       "      <td>1998-07-08</td>\n",
       "      <td>9.7500</td>\n",
       "      <td>9.500</td>\n",
       "      <td>-0.2500</td>\n",
       "      <td>0.351562</td>\n",
       "      <td>0.250000</td>\n",
       "      <td>1.406250</td>\n",
       "      <td>58.441558</td>\n",
       "    </tr>\n",
       "    <tr>\n",
       "      <td>1998-07-09</td>\n",
       "      <td>9.6250</td>\n",
       "      <td>9.625</td>\n",
       "      <td>0.0000</td>\n",
       "      <td>0.351562</td>\n",
       "      <td>0.200000</td>\n",
       "      <td>1.757812</td>\n",
       "      <td>63.739377</td>\n",
       "    </tr>\n",
       "    <tr>\n",
       "      <td>1998-07-10</td>\n",
       "      <td>9.6250</td>\n",
       "      <td>9.375</td>\n",
       "      <td>-0.2500</td>\n",
       "      <td>0.392857</td>\n",
       "      <td>0.208333</td>\n",
       "      <td>1.885714</td>\n",
       "      <td>65.346535</td>\n",
       "    </tr>\n",
       "    <tr>\n",
       "      <td>1998-07-13</td>\n",
       "      <td>9.5937</td>\n",
       "      <td>9.500</td>\n",
       "      <td>-0.0937</td>\n",
       "      <td>0.392857</td>\n",
       "      <td>0.203117</td>\n",
       "      <td>1.934145</td>\n",
       "      <td>65.918525</td>\n",
       "    </tr>\n",
       "    <tr>\n",
       "      <td>1998-07-14</td>\n",
       "      <td>9.6250</td>\n",
       "      <td>9.750</td>\n",
       "      <td>0.1250</td>\n",
       "      <td>0.366071</td>\n",
       "      <td>0.203117</td>\n",
       "      <td>1.802272</td>\n",
       "      <td>64.314667</td>\n",
       "    </tr>\n",
       "    <tr>\n",
       "      <td>1998-07-15</td>\n",
       "      <td>9.5000</td>\n",
       "      <td>9.625</td>\n",
       "      <td>0.1250</td>\n",
       "      <td>0.335938</td>\n",
       "      <td>0.193740</td>\n",
       "      <td>1.733960</td>\n",
       "      <td>63.423026</td>\n",
       "    </tr>\n",
       "  </tbody>\n",
       "</table>\n",
       "</div>"
      ],
      "text/plain": [
       "              Open  Close  Daily Change   AvgGain   AvgLoss        RS  \\\n",
       "Date                                                                    \n",
       "1998-07-01  9.3750  9.250       -0.1250       NaN       NaN       NaN   \n",
       "1998-07-02  9.2500  9.625        0.3750       NaN       NaN       NaN   \n",
       "1998-07-06  9.5000  9.625        0.1250       NaN       NaN       NaN   \n",
       "1998-07-07  9.3750  9.625        0.2500  0.368056  0.250000  1.472222   \n",
       "1998-07-08  9.7500  9.500       -0.2500  0.351562  0.250000  1.406250   \n",
       "1998-07-09  9.6250  9.625        0.0000  0.351562  0.200000  1.757812   \n",
       "1998-07-10  9.6250  9.375       -0.2500  0.392857  0.208333  1.885714   \n",
       "1998-07-13  9.5937  9.500       -0.0937  0.392857  0.203117  1.934145   \n",
       "1998-07-14  9.6250  9.750        0.1250  0.366071  0.203117  1.802272   \n",
       "1998-07-15  9.5000  9.625        0.1250  0.335938  0.193740  1.733960   \n",
       "\n",
       "                  RSI  \n",
       "Date                   \n",
       "1998-07-01        NaN  \n",
       "1998-07-02        NaN  \n",
       "1998-07-06        NaN  \n",
       "1998-07-07  59.550562  \n",
       "1998-07-08  58.441558  \n",
       "1998-07-09  63.739377  \n",
       "1998-07-10  65.346535  \n",
       "1998-07-13  65.918525  \n",
       "1998-07-14  64.314667  \n",
       "1998-07-15  63.423026  "
      ]
     },
     "execution_count": 7,
     "metadata": {},
     "output_type": "execute_result"
    }
   ],
   "source": [
    "# Define RSI period\n",
    "rsi_period = 14\n",
    "\n",
    "# Calculate Open vs Close change\n",
    "stock_data[\"Daily Change\"] = stock_data[\"Close\"] - stock_data[\"Open\"]\n",
    "\n",
    "# Calculate RSI\n",
    "stock_data[\"AvgGain\"] = stock_data[\"Daily Change\"].rolling(window=rsi_period).apply(lambda x: np.mean(x[x>0]) if len(x[x>0])>0 else 0)\n",
    "stock_data[\"AvgLoss\"] = stock_data[\"Daily Change\"].rolling(window=rsi_period).apply(lambda x: np.abs(np.mean(x[x<0])) if len(x[x<0])>0 else 0)\n",
    "stock_data[\"RS\"] = stock_data[\"AvgGain\"]/stock_data[\"AvgLoss\"]\n",
    "stock_data[\"RS\"] = stock_data[\"RS\"].replace([np.inf, -np.inf], 0)\n",
    "stock_data[\"RSI\"] = 100 - 100/(1+stock_data[\"RS\"]) # this is the indicator we will use in the model\n",
    "\n",
    "stock_data[[\"Open\", \"Close\", \"Daily Change\", \"AvgGain\", \"AvgLoss\",\"RS\",\"RSI\"]].iloc[10:20,]"
   ]
  },
  {
   "cell_type": "markdown",
   "metadata": {
    "collapsed": true
   },
   "source": [
    "### Step 3e: Define stochastic oscillators"
   ]
  },
  {
   "cell_type": "markdown",
   "metadata": {},
   "source": [
    "https://www.investopedia.com/terms/s/stochasticoscillator.asp"
   ]
  },
  {
   "cell_type": "code",
   "execution_count": 8,
   "metadata": {},
   "outputs": [
    {
     "data": {
      "text/html": [
       "<div>\n",
       "<style scoped>\n",
       "    .dataframe tbody tr th:only-of-type {\n",
       "        vertical-align: middle;\n",
       "    }\n",
       "\n",
       "    .dataframe tbody tr th {\n",
       "        vertical-align: top;\n",
       "    }\n",
       "\n",
       "    .dataframe thead th {\n",
       "        text-align: right;\n",
       "    }\n",
       "</style>\n",
       "<table border=\"1\" class=\"dataframe\">\n",
       "  <thead>\n",
       "    <tr style=\"text-align: right;\">\n",
       "      <th></th>\n",
       "      <th>Close</th>\n",
       "      <th>Low</th>\n",
       "      <th>High</th>\n",
       "      <th>Fast_Oscillator</th>\n",
       "      <th>Slow_Oscillator</th>\n",
       "    </tr>\n",
       "    <tr>\n",
       "      <th>Date</th>\n",
       "      <th></th>\n",
       "      <th></th>\n",
       "      <th></th>\n",
       "      <th></th>\n",
       "      <th></th>\n",
       "    </tr>\n",
       "  </thead>\n",
       "  <tbody>\n",
       "    <tr>\n",
       "      <td>1998-06-29</td>\n",
       "      <td>9.0000</td>\n",
       "      <td>7.7500</td>\n",
       "      <td>9.7500</td>\n",
       "      <td>NaN</td>\n",
       "      <td>NaN</td>\n",
       "    </tr>\n",
       "    <tr>\n",
       "      <td>1998-06-30</td>\n",
       "      <td>9.3125</td>\n",
       "      <td>9.0000</td>\n",
       "      <td>9.3125</td>\n",
       "      <td>NaN</td>\n",
       "      <td>NaN</td>\n",
       "    </tr>\n",
       "    <tr>\n",
       "      <td>1998-07-01</td>\n",
       "      <td>9.2500</td>\n",
       "      <td>9.1250</td>\n",
       "      <td>9.8750</td>\n",
       "      <td>NaN</td>\n",
       "      <td>NaN</td>\n",
       "    </tr>\n",
       "    <tr>\n",
       "      <td>1998-07-02</td>\n",
       "      <td>9.6250</td>\n",
       "      <td>9.2500</td>\n",
       "      <td>9.6250</td>\n",
       "      <td>NaN</td>\n",
       "      <td>NaN</td>\n",
       "    </tr>\n",
       "    <tr>\n",
       "      <td>1998-07-06</td>\n",
       "      <td>9.6250</td>\n",
       "      <td>9.4375</td>\n",
       "      <td>9.7500</td>\n",
       "      <td>NaN</td>\n",
       "      <td>NaN</td>\n",
       "    </tr>\n",
       "    <tr>\n",
       "      <td>1998-07-07</td>\n",
       "      <td>9.6250</td>\n",
       "      <td>9.3750</td>\n",
       "      <td>9.6250</td>\n",
       "      <td>88.235294</td>\n",
       "      <td>NaN</td>\n",
       "    </tr>\n",
       "    <tr>\n",
       "      <td>1998-07-08</td>\n",
       "      <td>9.5000</td>\n",
       "      <td>9.3750</td>\n",
       "      <td>9.7500</td>\n",
       "      <td>82.352941</td>\n",
       "      <td>NaN</td>\n",
       "    </tr>\n",
       "    <tr>\n",
       "      <td>1998-07-09</td>\n",
       "      <td>9.6250</td>\n",
       "      <td>9.2500</td>\n",
       "      <td>9.7500</td>\n",
       "      <td>88.235294</td>\n",
       "      <td>86.274510</td>\n",
       "    </tr>\n",
       "    <tr>\n",
       "      <td>1998-07-10</td>\n",
       "      <td>9.3750</td>\n",
       "      <td>9.3750</td>\n",
       "      <td>9.7500</td>\n",
       "      <td>76.470588</td>\n",
       "      <td>82.352941</td>\n",
       "    </tr>\n",
       "  </tbody>\n",
       "</table>\n",
       "</div>"
      ],
      "text/plain": [
       "             Close     Low    High  Fast_Oscillator  Slow_Oscillator\n",
       "Date                                                                \n",
       "1998-06-29  9.0000  7.7500  9.7500              NaN              NaN\n",
       "1998-06-30  9.3125  9.0000  9.3125              NaN              NaN\n",
       "1998-07-01  9.2500  9.1250  9.8750              NaN              NaN\n",
       "1998-07-02  9.6250  9.2500  9.6250              NaN              NaN\n",
       "1998-07-06  9.6250  9.4375  9.7500              NaN              NaN\n",
       "1998-07-07  9.6250  9.3750  9.6250        88.235294              NaN\n",
       "1998-07-08  9.5000  9.3750  9.7500        82.352941              NaN\n",
       "1998-07-09  9.6250  9.2500  9.7500        88.235294        86.274510\n",
       "1998-07-10  9.3750  9.3750  9.7500        76.470588        82.352941"
      ]
     },
     "execution_count": 8,
     "metadata": {},
     "output_type": "execute_result"
    }
   ],
   "source": [
    "# Define stochastics\n",
    "fast = 14\n",
    "slow = 3\n",
    "\n",
    "# We will use both fast and slow oscillators in the model\n",
    "stock_data[\"Fast_Oscillator\"] = 100*((stock_data[\"Close\"] - stock_data[\"Low\"].rolling(window=fast).min()) / \\\n",
    "                                (stock_data[\"High\"].rolling(window=fast).max()-stock_data[\"Low\"].rolling(window=fast).min()))\n",
    "\n",
    "stock_data[\"Slow_Oscillator\"] = stock_data[\"Fast_Oscillator\"].rolling(window=slow).mean()\n",
    "\n",
    "stock_data[[\"Close\",\"Low\",\"High\",\"Fast_Oscillator\",\"Slow_Oscillator\"]].iloc[8:17,]"
   ]
  },
  {
   "cell_type": "code",
   "execution_count": 9,
   "metadata": {},
   "outputs": [
    {
     "name": "stdout",
     "output_type": "stream",
     "text": [
      "Number of columns: 24\n",
      "Index(['Open', 'High', 'Low', 'Close', 'Adj Close', 'Volume',\n",
      "       'Next Day Increase', 'Target', 'BB_MA', 'BB_Upper', 'BB_Lower',\n",
      "       'Close_vs_BB_Upper', 'Close_vs_BB_Lower', 'MACD_Short', 'MACD_Long',\n",
      "       'MACD_Line', 'MACD_Signal', 'Daily Change', 'AvgGain', 'AvgLoss', 'RS',\n",
      "       'RSI', 'Fast_Oscillator', 'Slow_Oscillator'],\n",
      "      dtype='object')\n"
     ]
    }
   ],
   "source": [
    "print(\"Number of columns: %s\" % len(stock_data.columns))\n",
    "print(stock_data.columns)"
   ]
  },
  {
   "cell_type": "markdown",
   "metadata": {},
   "source": [
    "### Step 3f: Exploratory Analysis of Features"
   ]
  },
  {
   "cell_type": "code",
   "execution_count": 10,
   "metadata": {},
   "outputs": [
    {
     "data": {
      "text/html": [
       "<div>\n",
       "<style scoped>\n",
       "    .dataframe tbody tr th:only-of-type {\n",
       "        vertical-align: middle;\n",
       "    }\n",
       "\n",
       "    .dataframe tbody tr th {\n",
       "        vertical-align: top;\n",
       "    }\n",
       "\n",
       "    .dataframe thead th {\n",
       "        text-align: right;\n",
       "    }\n",
       "</style>\n",
       "<table border=\"1\" class=\"dataframe\">\n",
       "  <thead>\n",
       "    <tr style=\"text-align: right;\">\n",
       "      <th></th>\n",
       "      <th>Close</th>\n",
       "      <th>Close_vs_BB_Upper</th>\n",
       "      <th>Close_vs_BB_Lower</th>\n",
       "      <th>MACD_Signal</th>\n",
       "      <th>RSI</th>\n",
       "      <th>Fast_Oscillator</th>\n",
       "      <th>Slow_Oscillator</th>\n",
       "    </tr>\n",
       "  </thead>\n",
       "  <tbody>\n",
       "    <tr>\n",
       "      <td>Close</td>\n",
       "      <td>1.000000</td>\n",
       "      <td>0.286142</td>\n",
       "      <td>-0.012588</td>\n",
       "      <td>0.244396</td>\n",
       "      <td>-0.052078</td>\n",
       "      <td>0.077005</td>\n",
       "      <td>0.082153</td>\n",
       "    </tr>\n",
       "    <tr>\n",
       "      <td>Close_vs_BB_Upper</td>\n",
       "      <td>0.286142</td>\n",
       "      <td>1.000000</td>\n",
       "      <td>0.002161</td>\n",
       "      <td>0.450977</td>\n",
       "      <td>0.203362</td>\n",
       "      <td>0.449262</td>\n",
       "      <td>0.469345</td>\n",
       "    </tr>\n",
       "    <tr>\n",
       "      <td>Close_vs_BB_Lower</td>\n",
       "      <td>-0.012588</td>\n",
       "      <td>0.002161</td>\n",
       "      <td>1.000000</td>\n",
       "      <td>0.004985</td>\n",
       "      <td>0.020190</td>\n",
       "      <td>0.031859</td>\n",
       "      <td>0.027487</td>\n",
       "    </tr>\n",
       "    <tr>\n",
       "      <td>MACD_Signal</td>\n",
       "      <td>0.244396</td>\n",
       "      <td>0.450977</td>\n",
       "      <td>0.004985</td>\n",
       "      <td>1.000000</td>\n",
       "      <td>0.129654</td>\n",
       "      <td>0.226990</td>\n",
       "      <td>0.295980</td>\n",
       "    </tr>\n",
       "    <tr>\n",
       "      <td>RSI</td>\n",
       "      <td>-0.052078</td>\n",
       "      <td>0.203362</td>\n",
       "      <td>0.020190</td>\n",
       "      <td>0.129654</td>\n",
       "      <td>1.000000</td>\n",
       "      <td>0.386415</td>\n",
       "      <td>0.411757</td>\n",
       "    </tr>\n",
       "    <tr>\n",
       "      <td>Fast_Oscillator</td>\n",
       "      <td>0.077005</td>\n",
       "      <td>0.449262</td>\n",
       "      <td>0.031859</td>\n",
       "      <td>0.226990</td>\n",
       "      <td>0.386415</td>\n",
       "      <td>1.000000</td>\n",
       "      <td>0.904592</td>\n",
       "    </tr>\n",
       "    <tr>\n",
       "      <td>Slow_Oscillator</td>\n",
       "      <td>0.082153</td>\n",
       "      <td>0.469345</td>\n",
       "      <td>0.027487</td>\n",
       "      <td>0.295980</td>\n",
       "      <td>0.411757</td>\n",
       "      <td>0.904592</td>\n",
       "      <td>1.000000</td>\n",
       "    </tr>\n",
       "  </tbody>\n",
       "</table>\n",
       "</div>"
      ],
      "text/plain": [
       "                      Close  Close_vs_BB_Upper  Close_vs_BB_Lower  \\\n",
       "Close              1.000000           0.286142          -0.012588   \n",
       "Close_vs_BB_Upper  0.286142           1.000000           0.002161   \n",
       "Close_vs_BB_Lower -0.012588           0.002161           1.000000   \n",
       "MACD_Signal        0.244396           0.450977           0.004985   \n",
       "RSI               -0.052078           0.203362           0.020190   \n",
       "Fast_Oscillator    0.077005           0.449262           0.031859   \n",
       "Slow_Oscillator    0.082153           0.469345           0.027487   \n",
       "\n",
       "                   MACD_Signal       RSI  Fast_Oscillator  Slow_Oscillator  \n",
       "Close                 0.244396 -0.052078         0.077005         0.082153  \n",
       "Close_vs_BB_Upper     0.450977  0.203362         0.449262         0.469345  \n",
       "Close_vs_BB_Lower     0.004985  0.020190         0.031859         0.027487  \n",
       "MACD_Signal           1.000000  0.129654         0.226990         0.295980  \n",
       "RSI                   0.129654  1.000000         0.386415         0.411757  \n",
       "Fast_Oscillator       0.226990  0.386415         1.000000         0.904592  \n",
       "Slow_Oscillator       0.295980  0.411757         0.904592         1.000000  "
      ]
     },
     "execution_count": 10,
     "metadata": {},
     "output_type": "execute_result"
    }
   ],
   "source": [
    "# check correlation between the new numeric features and the close price\n",
    "stock_data[[\"Close\",\"Close_vs_BB_Upper\", \"Close_vs_BB_Lower\", \"MACD_Signal\", \"RSI\", \"Fast_Oscillator\", \"Slow_Oscillator\"]].corr()"
   ]
  },
  {
   "cell_type": "markdown",
   "metadata": {},
   "source": [
    "Looks like none ofthe indicators we have created have a strong correlation with the Close price. This makes it seem they won't have much predictive power in a classification model predicting changes in close price, but we shall see."
   ]
  },
  {
   "cell_type": "markdown",
   "metadata": {},
   "source": [
    "### Step 3g: Feature Importance: ANOVA"
   ]
  },
  {
   "cell_type": "markdown",
   "metadata": {},
   "source": [
    "In the prior step, we attempted to see if any of the technical indicators created had a correlation with the Close price, which is a proxy for our real target variable: Day Ahead Price Increase. Now, we will test to see if any of the indicators have a meaningful relationship with the classification target variable: Day Ahead Price Increase."
   ]
  },
  {
   "cell_type": "markdown",
   "metadata": {},
   "source": [
    "First, plot the target variable against some of the technical indicators to judge any relationship visually."
   ]
  },
  {
   "cell_type": "code",
   "execution_count": 11,
   "metadata": {},
   "outputs": [
    {
     "data": {
      "image/png": "[encoded data removed]",
      "text/plain": [
       "<Figure size 720x720 with 6 Axes>"
      ]
     },
     "metadata": {
      "needs_background": "light"
     },
     "output_type": "display_data"
    }
   ],
   "source": [
    "plot_cols = [\"Close_vs_BB_Upper\", \"Close_vs_BB_Lower\", \"MACD_Signal\", \"RSI\", \"Fast_Oscillator\", \"Slow_Oscillator\"]\n",
    "stock_data.boxplot(column=plot_cols,by='Target',figsize=(10,10))\n",
    "plt.show()"
   ]
  },
  {
   "cell_type": "markdown",
   "metadata": {},
   "source": [
    "Does not seem to be any significant difference in True vs False subsets for any of the variables. But, we can do ANOVA to check more detail. We can use ANOVA to see if there is a statistically significant difference between the Target variable True and False, and the distribution of the input variables. Technically, this is a little backwards since we will use the target variable to predict the input, but ANOVA will still give us an indication if there is a meaningful relationship between any of the inputs and a target variable."
   ]
  },
  {
   "cell_type": "markdown",
   "metadata": {},
   "source": [
    "Rather than review the entire summary of the OLS Anova model, we will just review the F Statistic for each model for each column to see if there is anything significant."
   ]
  },
  {
   "cell_type": "code",
   "execution_count": 12,
   "metadata": {},
   "outputs": [],
   "source": [
    "test_cols = [\"Close_vs_BB_Upper\", \"Close_vs_BB_Lower\", \"MACD_Signal\", \"RSI\", \"Fast_Oscillator\", \"Slow_Oscillator\"]\n",
    "results_list = []\n",
    "for col in test_cols:\n",
    "    formula = col + '~ C(Target)'\n",
    "    results = ols(formula=formula,data=stock_data).fit()\n",
    "    results_dict = {\"Column\":col,\n",
    "                    \"f_pvalue\": results.f_pvalue,\n",
    "                   \"rsquared\": results.rsquared,\n",
    "                   \"rsquared_adj\":results.rsquared_adj}\n",
    "    results_list.append(results_dict)\n",
    "\n"
   ]
  },
  {
   "cell_type": "code",
   "execution_count": 13,
   "metadata": {},
   "outputs": [
    {
     "data": {
      "text/html": [
       "<div>\n",
       "<style scoped>\n",
       "    .dataframe tbody tr th:only-of-type {\n",
       "        vertical-align: middle;\n",
       "    }\n",
       "\n",
       "    .dataframe tbody tr th {\n",
       "        vertical-align: top;\n",
       "    }\n",
       "\n",
       "    .dataframe thead th {\n",
       "        text-align: right;\n",
       "    }\n",
       "</style>\n",
       "<table border=\"1\" class=\"dataframe\">\n",
       "  <thead>\n",
       "    <tr style=\"text-align: right;\">\n",
       "      <th></th>\n",
       "      <th>Column</th>\n",
       "      <th>f_pvalue</th>\n",
       "      <th>rsquared</th>\n",
       "      <th>rsquared_adj</th>\n",
       "    </tr>\n",
       "  </thead>\n",
       "  <tbody>\n",
       "    <tr>\n",
       "      <td>0</td>\n",
       "      <td>Close_vs_BB_Upper</td>\n",
       "      <td>0.443144</td>\n",
       "      <td>1.186269e-04</td>\n",
       "      <td>-0.000083</td>\n",
       "    </tr>\n",
       "    <tr>\n",
       "      <td>1</td>\n",
       "      <td>Close_vs_BB_Lower</td>\n",
       "      <td>0.774375</td>\n",
       "      <td>1.657527e-05</td>\n",
       "      <td>-0.000185</td>\n",
       "    </tr>\n",
       "    <tr>\n",
       "      <td>2</td>\n",
       "      <td>MACD_Signal</td>\n",
       "      <td>0.991456</td>\n",
       "      <td>2.312016e-08</td>\n",
       "      <td>-0.000202</td>\n",
       "    </tr>\n",
       "    <tr>\n",
       "      <td>3</td>\n",
       "      <td>RSI</td>\n",
       "      <td>0.089613</td>\n",
       "      <td>5.823237e-04</td>\n",
       "      <td>0.000380</td>\n",
       "    </tr>\n",
       "    <tr>\n",
       "      <td>4</td>\n",
       "      <td>Fast_Oscillator</td>\n",
       "      <td>0.016783</td>\n",
       "      <td>1.155487e-03</td>\n",
       "      <td>0.000954</td>\n",
       "    </tr>\n",
       "    <tr>\n",
       "      <td>5</td>\n",
       "      <td>Slow_Oscillator</td>\n",
       "      <td>0.037249</td>\n",
       "      <td>8.771557e-04</td>\n",
       "      <td>0.000675</td>\n",
       "    </tr>\n",
       "  </tbody>\n",
       "</table>\n",
       "</div>"
      ],
      "text/plain": [
       "              Column  f_pvalue      rsquared  rsquared_adj\n",
       "0  Close_vs_BB_Upper  0.443144  1.186269e-04     -0.000083\n",
       "1  Close_vs_BB_Lower  0.774375  1.657527e-05     -0.000185\n",
       "2        MACD_Signal  0.991456  2.312016e-08     -0.000202\n",
       "3                RSI  0.089613  5.823237e-04      0.000380\n",
       "4    Fast_Oscillator  0.016783  1.155487e-03      0.000954\n",
       "5    Slow_Oscillator  0.037249  8.771557e-04      0.000675"
      ]
     },
     "execution_count": 13,
     "metadata": {},
     "output_type": "execute_result"
    }
   ],
   "source": [
    "anova_results_df = pd.DataFrame(results_list)\n",
    "anova_results_df"
   ]
  },
  {
   "cell_type": "markdown",
   "metadata": {},
   "source": [
    "Based on this, there are a few models that are significant based on the F Statistic (Oscillators and RSI), but not many that have a meaningful R-Squared metric. In further analysis, we should do more digging into each one to determine true significance."
   ]
  },
  {
   "cell_type": "markdown",
   "metadata": {},
   "source": [
    "## Step 4: Set up data for modeling"
   ]
  },
  {
   "cell_type": "code",
   "execution_count": 14,
   "metadata": {},
   "outputs": [],
   "source": [
    "# Remove NaN rows\n",
    "stock_data = stock_data.dropna()"
   ]
  },
  {
   "cell_type": "code",
   "execution_count": 15,
   "metadata": {},
   "outputs": [],
   "source": [
    "# Define feature columns\n",
    "feature_cols = [\"Close_vs_BB_Upper\", \"Close_vs_BB_Lower\", \"MACD_Signal\", \"RSI\", \"Fast_Oscillator\", \"Slow_Oscillator\"]\n",
    "\n",
    "target = \"Target\"\n",
    "\n",
    "# Split data into model inputs (X) and model outputs (Y) \n",
    "X = stock_data[feature_cols]\n",
    "Y = stock_data[target]"
   ]
  },
  {
   "cell_type": "code",
   "execution_count": 16,
   "metadata": {},
   "outputs": [],
   "source": [
    "# Set up training and testing data sets\n",
    "train_start = np.min(stock_data.index)\n",
    "train_end = datetime.datetime(2016,12,31)\n",
    "test_start = train_end + datetime.timedelta(days=1) # the day after training stops\n",
    "\n",
    "# Define training set\n",
    "X_train = X[:train_end]\n",
    "Y_train = Y[:train_end]\n",
    "\n",
    "# Define test set\n",
    "X_test = X[test_start:]\n",
    "Y_test = Y[test_start:]"
   ]
  },
  {
   "cell_type": "markdown",
   "metadata": {},
   "source": [
    "## Step 5: Fit Model to Data"
   ]
  },
  {
   "cell_type": "code",
   "execution_count": 17,
   "metadata": {},
   "outputs": [
    {
     "data": {
      "text/plain": [
       "DecisionTreeClassifier(class_weight=None, criterion='gini', max_depth=None,\n",
       "                       max_features=None, max_leaf_nodes=None,\n",
       "                       min_impurity_decrease=0.0, min_impurity_split=None,\n",
       "                       min_samples_leaf=1, min_samples_split=2,\n",
       "                       min_weight_fraction_leaf=0.0, presort=False,\n",
       "                       random_state=0, splitter='best')"
      ]
     },
     "execution_count": 17,
     "metadata": {},
     "output_type": "execute_result"
    }
   ],
   "source": [
    "# Use decision tree classifier\n",
    "dt = DecisionTreeClassifier(random_state=0)\n",
    "\n",
    "# Fit model to data\n",
    "dt.fit(X_train, Y_train)"
   ]
  },
  {
   "cell_type": "code",
   "execution_count": 18,
   "metadata": {},
   "outputs": [],
   "source": [
    "# Make predictions on test set\n",
    "dt_preds = dt.predict(X_test)\n",
    "\n",
    "# Predict probabilities\n",
    "dt_probs = dt.predict_proba(X_test)"
   ]
  },
  {
   "cell_type": "markdown",
   "metadata": {},
   "source": [
    "## Step 6: Evaluate model accuracy"
   ]
  },
  {
   "cell_type": "code",
   "execution_count": 19,
   "metadata": {},
   "outputs": [
    {
     "name": "stdout",
     "output_type": "stream",
     "text": [
      "[[ 53  79]\n",
      " [ 60 102]]\n"
     ]
    }
   ],
   "source": [
    "# Confusion matrix\n",
    "print(confusion_matrix(Y_test, dt_preds))"
   ]
  },
  {
   "cell_type": "code",
   "execution_count": 20,
   "metadata": {},
   "outputs": [
    {
     "name": "stdout",
     "output_type": "stream",
     "text": [
      "Accuracy: 52.72 percent\n",
      "Precision: 56.35 percent\n",
      "Recall: 62.96 percent\n"
     ]
    }
   ],
   "source": [
    "print(\"Accuracy: %.2f percent\" % np.multiply(100.0,accuracy_score(Y_test, dt_preds)))\n",
    "print(\"Precision: %.2f percent\" % np.multiply(100.0,precision_score(Y_test, dt_preds)))\n",
    "print(\"Recall: %.2f percent\" % np.multiply(100.0,recall_score(Y_test, dt_preds)))"
   ]
  },
  {
   "cell_type": "code",
   "execution_count": 21,
   "metadata": {},
   "outputs": [
    {
     "data": {
      "image/png": "[encoded data removed]",
      "text/plain": [
       "<Figure size 432x288 with 1 Axes>"
      ]
     },
     "metadata": {
      "needs_background": "light"
     },
     "output_type": "display_data"
    }
   ],
   "source": [
    "# ROC Curve\n",
    "fpr, tpr, threshold = roc_curve(Y_test, dt_preds)\n",
    "roc_auc = auc(fpr, tpr)\n",
    "\n",
    "plt.title('Decision Tree ROC')\n",
    "plt.plot(fpr, tpr, 'b', label = 'DT AUC = %0.2f' % roc_auc)\n",
    "plt.legend(loc = 'lower right')\n",
    "plt.plot([0, 1], [0, 1],'r--')\n",
    "plt.xlim([0, 1])\n",
    "plt.ylim([0, 1])\n",
    "plt.ylabel('True Positive Rate')\n",
    "plt.xlabel('False Positive Rate')\n",
    "plt.show()\n"
   ]
  },
  {
   "cell_type": "markdown",
   "metadata": {},
   "source": [
    "Just out of curiosity, we can also check feature importances from the decision tree to see if this lines up from the ANOVA results from earlier."
   ]
  },
  {
   "cell_type": "code",
   "execution_count": 22,
   "metadata": {},
   "outputs": [
    {
     "data": {
      "text/html": [
       "<div>\n",
       "<style scoped>\n",
       "    .dataframe tbody tr th:only-of-type {\n",
       "        vertical-align: middle;\n",
       "    }\n",
       "\n",
       "    .dataframe tbody tr th {\n",
       "        vertical-align: top;\n",
       "    }\n",
       "\n",
       "    .dataframe thead th {\n",
       "        text-align: right;\n",
       "    }\n",
       "</style>\n",
       "<table border=\"1\" class=\"dataframe\">\n",
       "  <thead>\n",
       "    <tr style=\"text-align: right;\">\n",
       "      <th></th>\n",
       "      <th>Feature Importance</th>\n",
       "    </tr>\n",
       "  </thead>\n",
       "  <tbody>\n",
       "    <tr>\n",
       "      <td>Slow_Oscillator</td>\n",
       "      <td>0.195153</td>\n",
       "    </tr>\n",
       "    <tr>\n",
       "      <td>RSI</td>\n",
       "      <td>0.174354</td>\n",
       "    </tr>\n",
       "    <tr>\n",
       "      <td>MACD_Signal</td>\n",
       "      <td>0.164388</td>\n",
       "    </tr>\n",
       "    <tr>\n",
       "      <td>Close_vs_BB_Upper</td>\n",
       "      <td>0.163192</td>\n",
       "    </tr>\n",
       "    <tr>\n",
       "      <td>Close_vs_BB_Lower</td>\n",
       "      <td>0.157707</td>\n",
       "    </tr>\n",
       "    <tr>\n",
       "      <td>Fast_Oscillator</td>\n",
       "      <td>0.145206</td>\n",
       "    </tr>\n",
       "  </tbody>\n",
       "</table>\n",
       "</div>"
      ],
      "text/plain": [
       "                   Feature Importance\n",
       "Slow_Oscillator              0.195153\n",
       "RSI                          0.174354\n",
       "MACD_Signal                  0.164388\n",
       "Close_vs_BB_Upper            0.163192\n",
       "Close_vs_BB_Lower            0.157707\n",
       "Fast_Oscillator              0.145206"
      ]
     },
     "execution_count": 22,
     "metadata": {},
     "output_type": "execute_result"
    }
   ],
   "source": [
    "dt_fi = pd.DataFrame(dt.feature_importances_,index=X.columns,columns=[\"Feature Importance\"])\n",
    "dt_fi.sort_values(by=[\"Feature Importance\"],ascending=False)"
   ]
  },
  {
   "cell_type": "markdown",
   "metadata": {},
   "source": [
    "This seems to line up with the ANOVA results in the sense that the Slow oscillator and RSI are most important, but relative to all the other features, there is not a big gap. Still hard to say there is any form of meaningful relationship with the target variable."
   ]
  },
  {
   "cell_type": "markdown",
   "metadata": {},
   "source": [
    "## Step 7: Test other types of models"
   ]
  },
  {
   "cell_type": "markdown",
   "metadata": {},
   "source": [
    "### Step 7a: Random Forest"
   ]
  },
  {
   "cell_type": "code",
   "execution_count": 23,
   "metadata": {},
   "outputs": [
    {
     "data": {
      "text/plain": [
       "RandomForestClassifier(bootstrap=True, class_weight=None, criterion='gini',\n",
       "                       max_depth=None, max_features='auto', max_leaf_nodes=None,\n",
       "                       min_impurity_decrease=0.0, min_impurity_split=None,\n",
       "                       min_samples_leaf=1, min_samples_split=2,\n",
       "                       min_weight_fraction_leaf=0.0, n_estimators=20,\n",
       "                       n_jobs=None, oob_score=False, random_state=0, verbose=0,\n",
       "                       warm_start=False)"
      ]
     },
     "execution_count": 23,
     "metadata": {},
     "output_type": "execute_result"
    }
   ],
   "source": [
    "n_trees = 20\n",
    "\n",
    "rf = RandomForestClassifier(n_estimators=n_trees, random_state=0)\n",
    "\n",
    "rf.fit(X_train, Y_train)"
   ]
  },
  {
   "cell_type": "code",
   "execution_count": 24,
   "metadata": {},
   "outputs": [
    {
     "data": {
      "text/html": [
       "<div>\n",
       "<style scoped>\n",
       "    .dataframe tbody tr th:only-of-type {\n",
       "        vertical-align: middle;\n",
       "    }\n",
       "\n",
       "    .dataframe tbody tr th {\n",
       "        vertical-align: top;\n",
       "    }\n",
       "\n",
       "    .dataframe thead th {\n",
       "        text-align: right;\n",
       "    }\n",
       "</style>\n",
       "<table border=\"1\" class=\"dataframe\">\n",
       "  <thead>\n",
       "    <tr style=\"text-align: right;\">\n",
       "      <th></th>\n",
       "      <th>Feature Importance</th>\n",
       "    </tr>\n",
       "  </thead>\n",
       "  <tbody>\n",
       "    <tr>\n",
       "      <td>Close_vs_BB_Upper</td>\n",
       "      <td>0.171786</td>\n",
       "    </tr>\n",
       "    <tr>\n",
       "      <td>MACD_Signal</td>\n",
       "      <td>0.167500</td>\n",
       "    </tr>\n",
       "    <tr>\n",
       "      <td>Close_vs_BB_Lower</td>\n",
       "      <td>0.167488</td>\n",
       "    </tr>\n",
       "    <tr>\n",
       "      <td>RSI</td>\n",
       "      <td>0.166258</td>\n",
       "    </tr>\n",
       "    <tr>\n",
       "      <td>Slow_Oscillator</td>\n",
       "      <td>0.165525</td>\n",
       "    </tr>\n",
       "    <tr>\n",
       "      <td>Fast_Oscillator</td>\n",
       "      <td>0.161443</td>\n",
       "    </tr>\n",
       "  </tbody>\n",
       "</table>\n",
       "</div>"
      ],
      "text/plain": [
       "                   Feature Importance\n",
       "Close_vs_BB_Upper            0.171786\n",
       "MACD_Signal                  0.167500\n",
       "Close_vs_BB_Lower            0.167488\n",
       "RSI                          0.166258\n",
       "Slow_Oscillator              0.165525\n",
       "Fast_Oscillator              0.161443"
      ]
     },
     "execution_count": 24,
     "metadata": {},
     "output_type": "execute_result"
    }
   ],
   "source": [
    "rf_fi = pd.DataFrame(rf.feature_importances_,index=X.columns,columns=[\"Feature Importance\"])\n",
    "rf_fi.sort_values(by=[\"Feature Importance\"],ascending=False)"
   ]
  },
  {
   "cell_type": "code",
   "execution_count": 25,
   "metadata": {},
   "outputs": [],
   "source": [
    "# Make predictions on test set\n",
    "rf_preds = rf.predict(X_test)\n",
    "\n",
    "# Predict probabilities\n",
    "rf_probs = rf.predict_proba(X_test)"
   ]
  },
  {
   "cell_type": "code",
   "execution_count": 26,
   "metadata": {},
   "outputs": [
    {
     "name": "stdout",
     "output_type": "stream",
     "text": [
      "[[65 67]\n",
      " [82 80]]\n"
     ]
    }
   ],
   "source": [
    "# Confusion matrix\n",
    "print(confusion_matrix(Y_test, rf_preds))"
   ]
  },
  {
   "cell_type": "code",
   "execution_count": 27,
   "metadata": {},
   "outputs": [
    {
     "name": "stdout",
     "output_type": "stream",
     "text": [
      "Accuracy: 49.32 percent\n",
      "Precision: 54.42 percent\n",
      "Recall: 49.38 percent\n"
     ]
    }
   ],
   "source": [
    "print(\"Accuracy: %.2f percent\" % np.multiply(100.0,accuracy_score(Y_test, rf_preds)))\n",
    "print(\"Precision: %.2f percent\" % np.multiply(100.0,precision_score(Y_test, rf_preds)))\n",
    "print(\"Recall: %.2f percent\" % np.multiply(100.0,recall_score(Y_test, rf_preds)))"
   ]
  },
  {
   "cell_type": "code",
   "execution_count": 28,
   "metadata": {},
   "outputs": [
    {
     "data": {
      "image/png": "[encoded data removed]",
      "text/plain": [
       "<Figure size 432x288 with 1 Axes>"
      ]
     },
     "metadata": {
      "needs_background": "light"
     },
     "output_type": "display_data"
    }
   ],
   "source": [
    "# ROC Curve\n",
    "fpr, tpr, threshold = roc_curve(Y_test, rf_preds)\n",
    "roc_auc = auc(fpr, tpr)\n",
    "\n",
    "plt.title('Random Forest ROC')\n",
    "plt.plot(fpr, tpr, 'b', label = 'RF AUC = %0.2f' % roc_auc)\n",
    "plt.legend(loc = 'lower right')\n",
    "plt.plot([0, 1], [0, 1],'r--')\n",
    "plt.xlim([0, 1])\n",
    "plt.ylim([0, 1])\n",
    "plt.ylabel('True Positive Rate')\n",
    "plt.xlabel('False Positive Rate')\n",
    "plt.show()\n"
   ]
  },
  {
   "cell_type": "markdown",
   "metadata": {},
   "source": [
    "### Step 7b: Support Vector Machine"
   ]
  },
  {
   "cell_type": "code",
   "execution_count": 29,
   "metadata": {},
   "outputs": [
    {
     "name": "stderr",
     "output_type": "stream",
     "text": [
      "C:\\Users\\sasth\\Anaconda3\\lib\\site-packages\\sklearn\\svm\\base.py:193: FutureWarning: The default value of gamma will change from 'auto' to 'scale' in version 0.22 to account better for unscaled features. Set gamma explicitly to 'auto' or 'scale' to avoid this warning.\n",
      "  \"avoid this warning.\", FutureWarning)\n"
     ]
    },
    {
     "data": {
      "text/plain": [
       "SVC(C=1.0, cache_size=200, class_weight=None, coef0=0.0,\n",
       "    decision_function_shape='ovr', degree=3, gamma='auto_deprecated',\n",
       "    kernel='rbf', max_iter=-1, probability=True, random_state=0, shrinking=True,\n",
       "    tol=0.001, verbose=False)"
      ]
     },
     "execution_count": 29,
     "metadata": {},
     "output_type": "execute_result"
    }
   ],
   "source": [
    "svm = SVC(kernel='rbf',probability=True, random_state=0)\n",
    "\n",
    "svm.fit(X_train, Y_train)"
   ]
  },
  {
   "cell_type": "code",
   "execution_count": 30,
   "metadata": {},
   "outputs": [],
   "source": [
    "# Make predictions on test set\n",
    "svm_preds = svm.predict(X_test)\n",
    "\n",
    "# Predict probabilities\n",
    "svm_probs = svm.predict_proba(X_test)"
   ]
  },
  {
   "cell_type": "code",
   "execution_count": 31,
   "metadata": {},
   "outputs": [
    {
     "name": "stdout",
     "output_type": "stream",
     "text": [
      "[[73 59]\n",
      " [99 63]]\n"
     ]
    }
   ],
   "source": [
    "# Confusion matrix\n",
    "print(confusion_matrix(Y_test, svm_preds))"
   ]
  },
  {
   "cell_type": "code",
   "execution_count": 32,
   "metadata": {},
   "outputs": [
    {
     "name": "stdout",
     "output_type": "stream",
     "text": [
      "Accuracy: 46.26 percent\n",
      "Precision: 51.64 percent\n",
      "Recall: 38.89 percent\n"
     ]
    }
   ],
   "source": [
    "print(\"Accuracy: %.2f percent\" % np.multiply(100.0,accuracy_score(Y_test, svm_preds)))\n",
    "print(\"Precision: %.2f percent\" % np.multiply(100.0,precision_score(Y_test, svm_preds)))\n",
    "print(\"Recall: %.2f percent\" % np.multiply(100.0,recall_score(Y_test, svm_preds)))"
   ]
  },
  {
   "cell_type": "code",
   "execution_count": 33,
   "metadata": {
    "scrolled": true
   },
   "outputs": [
    {
     "data": {
      "image/png": "[encoded data removed]",
      "text/plain": [
       "<Figure size 432x288 with 1 Axes>"
      ]
     },
     "metadata": {
      "needs_background": "light"
     },
     "output_type": "display_data"
    }
   ],
   "source": [
    "# ROC Curve\n",
    "fpr, tpr, threshold = roc_curve(Y_test, svm_preds)\n",
    "roc_auc = auc(fpr, tpr)\n",
    "\n",
    "plt.title('Support Vector Machine ROC')\n",
    "plt.plot(fpr, tpr, 'b', label = 'SVM AUC = %0.2f' % roc_auc)\n",
    "plt.legend(loc = 'lower right')\n",
    "plt.plot([0, 1], [0, 1],'r--')\n",
    "plt.xlim([0, 1])\n",
    "plt.ylim([0, 1])\n",
    "plt.ylabel('True Positive Rate')\n",
    "plt.xlabel('False Positive Rate')\n",
    "plt.show()\n"
   ]
  },
  {
   "cell_type": "markdown",
   "metadata": {},
   "source": [
    "### Step 7c: Neural Network"
   ]
  },
  {
   "cell_type": "code",
   "execution_count": 34,
   "metadata": {},
   "outputs": [
    {
     "data": {
      "text/plain": [
       "MLPClassifier(activation='relu', alpha=0.0001, batch_size='auto', beta_1=0.9,\n",
       "              beta_2=0.999, early_stopping=False, epsilon=1e-08,\n",
       "              hidden_layer_sizes=(100,), learning_rate='constant',\n",
       "              learning_rate_init=0.001, max_iter=200, momentum=0.9,\n",
       "              n_iter_no_change=10, nesterovs_momentum=True, power_t=0.5,\n",
       "              random_state=0, shuffle=True, solver='adam', tol=0.0001,\n",
       "              validation_fraction=0.1, verbose=False, warm_start=False)"
      ]
     },
     "execution_count": 34,
     "metadata": {},
     "output_type": "execute_result"
    }
   ],
   "source": [
    "nnet = MLPClassifier(random_state=0)\n",
    "\n",
    "nnet.fit(X_train, Y_train)"
   ]
  },
  {
   "cell_type": "code",
   "execution_count": 35,
   "metadata": {},
   "outputs": [],
   "source": [
    "# Make predictions on test set\n",
    "nnet_preds = nnet.predict(X_test)\n",
    "\n",
    "# Predict probabilities\n",
    "nnet_probs = nnet.predict_proba(X_test)"
   ]
  },
  {
   "cell_type": "code",
   "execution_count": 36,
   "metadata": {},
   "outputs": [
    {
     "name": "stdout",
     "output_type": "stream",
     "text": [
      "[[115  17]\n",
      " [146  16]]\n"
     ]
    }
   ],
   "source": [
    "# Confusion matrix\n",
    "print(confusion_matrix(Y_test, nnet_preds))"
   ]
  },
  {
   "cell_type": "code",
   "execution_count": 37,
   "metadata": {},
   "outputs": [
    {
     "name": "stdout",
     "output_type": "stream",
     "text": [
      "Accuracy: 44.56 percent\n",
      "Precision: 48.48 percent\n",
      "Recall: 9.88 percent\n"
     ]
    }
   ],
   "source": [
    "print(\"Accuracy: %.2f percent\" % np.multiply(100.0,accuracy_score(Y_test, nnet_preds)))\n",
    "print(\"Precision: %.2f percent\" % np.multiply(100.0,precision_score(Y_test, nnet_preds)))\n",
    "print(\"Recall: %.2f percent\" % np.multiply(100.0,recall_score(Y_test, nnet_preds)))"
   ]
  },
  {
   "cell_type": "code",
   "execution_count": 38,
   "metadata": {
    "scrolled": true
   },
   "outputs": [
    {
     "data": {
      "image/png": "[encoded data removed]",
      "text/plain": [
       "<Figure size 432x288 with 1 Axes>"
      ]
     },
     "metadata": {
      "needs_background": "light"
     },
     "output_type": "display_data"
    }
   ],
   "source": [
    "# ROC Curve\n",
    "fpr, tpr, threshold = roc_curve(Y_test, nnet_preds)\n",
    "roc_auc = auc(fpr, tpr)\n",
    "\n",
    "plt.title('Neural Network ROC')\n",
    "plt.plot(fpr, tpr, 'b', label = 'NN AUC = %0.2f' % roc_auc)\n",
    "plt.legend(loc = 'lower right')\n",
    "plt.plot([0, 1], [0, 1],'r--')\n",
    "plt.xlim([0, 1])\n",
    "plt.ylim([0, 1])\n",
    "plt.ylabel('True Positive Rate')\n",
    "plt.xlabel('False Positive Rate')\n",
    "plt.show()\n"
   ]
  },
  {
   "cell_type": "markdown",
   "metadata": {},
   "source": [
    "### Step 7d: Summarize results"
   ]
  },
  {
   "cell_type": "code",
   "execution_count": 39,
   "metadata": {},
   "outputs": [
    {
     "data": {
      "text/html": [
       "<div>\n",
       "<style scoped>\n",
       "    .dataframe tbody tr th:only-of-type {\n",
       "        vertical-align: middle;\n",
       "    }\n",
       "\n",
       "    .dataframe tbody tr th {\n",
       "        vertical-align: top;\n",
       "    }\n",
       "\n",
       "    .dataframe thead th {\n",
       "        text-align: right;\n",
       "    }\n",
       "</style>\n",
       "<table border=\"1\" class=\"dataframe\">\n",
       "  <thead>\n",
       "    <tr style=\"text-align: right;\">\n",
       "      <th></th>\n",
       "      <th>Accuracy</th>\n",
       "      <th>Precision</th>\n",
       "      <th>Recall</th>\n",
       "      <th>AUC</th>\n",
       "    </tr>\n",
       "  </thead>\n",
       "  <tbody>\n",
       "    <tr>\n",
       "      <td>Decision Tree</td>\n",
       "      <td>0.527211</td>\n",
       "      <td>0.563536</td>\n",
       "      <td>0.629630</td>\n",
       "      <td>0.515572</td>\n",
       "    </tr>\n",
       "    <tr>\n",
       "      <td>Random Forest</td>\n",
       "      <td>0.493197</td>\n",
       "      <td>0.544218</td>\n",
       "      <td>0.493827</td>\n",
       "      <td>0.493126</td>\n",
       "    </tr>\n",
       "    <tr>\n",
       "      <td>SVM</td>\n",
       "      <td>0.462585</td>\n",
       "      <td>0.516393</td>\n",
       "      <td>0.388889</td>\n",
       "      <td>0.470960</td>\n",
       "    </tr>\n",
       "    <tr>\n",
       "      <td>Neural Network</td>\n",
       "      <td>0.445578</td>\n",
       "      <td>0.484848</td>\n",
       "      <td>0.098765</td>\n",
       "      <td>0.484989</td>\n",
       "    </tr>\n",
       "  </tbody>\n",
       "</table>\n",
       "</div>"
      ],
      "text/plain": [
       "                Accuracy  Precision    Recall       AUC\n",
       "Decision Tree   0.527211   0.563536  0.629630  0.515572\n",
       "Random Forest   0.493197   0.544218  0.493827  0.493126\n",
       "SVM             0.462585   0.516393  0.388889  0.470960\n",
       "Neural Network  0.445578   0.484848  0.098765  0.484989"
      ]
     },
     "execution_count": 39,
     "metadata": {},
     "output_type": "execute_result"
    }
   ],
   "source": [
    "# Summarize results\n",
    "\n",
    "models = [\"Decision Tree\", \"Random Forest\", \"SVM\", \"Neural Network\"]\n",
    "precision_scores = []\n",
    "recall_scores = []\n",
    "accuracy_scores = []\n",
    "auc_scores =[]\n",
    "\n",
    "for preds in [dt_preds, rf_preds, svm_preds, nnet_preds]:\n",
    "    precision_scores.append(precision_score(Y_test, preds))\n",
    "    recall_scores.append(recall_score(Y_test, preds))\n",
    "    accuracy_scores.append(accuracy_score(Y_test, preds))\n",
    "    fpr, tpr, threshold = roc_curve(Y_test, preds)\n",
    "    roc_auc = auc(fpr, tpr)\n",
    "    auc_scores.append(roc_auc)\n",
    "    \n",
    "results = pd.DataFrame({\"Accuracy\" : accuracy_scores, \n",
    "                        \"Precision\" : precision_scores,  \n",
    "                       \"Recall\" : recall_scores, \n",
    "                        \"AUC\" : auc_scores}, index=models)\n",
    "    \n",
    "results"
   ]
  },
  {
   "cell_type": "markdown",
   "metadata": {
    "collapsed": true
   },
   "source": [
    "## Conclusion"
   ]
  },
  {
   "cell_type": "markdown",
   "metadata": {},
   "source": [
    "Overall, we can conclude that none of the models tested performed much better than random chance. Some even performed worse than random chance in terms of predictig day ahead stock price movements. Interestingly enough, the decision tree seemed to perform better than the more advanced models, indicating some level of overfitting to the training set. Obviously, stock price prediction is a very difficult, non-linear problem that would require better predictors and models than we explored today. But it was a helpful exercise to walk through the step from beginning to end of how to build and test a model on a real dataset."
   ]
  },
  {
   "cell_type": "markdown",
   "metadata": {},
   "source": [
    "## Future Work"
   ]
  },
  {
   "cell_type": "markdown",
   "metadata": {},
   "source": [
    "Future work could include many different phases of work:\n",
    "1. Trying a new stock ticker\n",
    "2. Performing model cross validation and running the model evaluation over multiple time periods instead of just one\n",
    "3. Hyperparameter tuning for each model to identify optimal model parameters\n",
    "4. More feature engineering, testing out different input variables and other technical indicators\n",
    "5. More rigorous feature selection methods"
   ]
  }
 ],
 "metadata": {
  "kernelspec": {
   "display_name": "Python 3",
   "language": "python",
   "name": "python3"
  },
  "language_info": {
   "codemirror_mode": {
    "name": "ipython",
    "version": 3
   },
   "file_extension": ".py",
   "mimetype": "text/x-python",
   "name": "python",
   "nbconvert_exporter": "python",
   "pygments_lexer": "ipython3",
   "version": "3.7.4"
  }
 },
 "nbformat": 4,
 "nbformat_minor": 2
}
