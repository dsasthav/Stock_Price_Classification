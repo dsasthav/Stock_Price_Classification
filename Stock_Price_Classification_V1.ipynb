{
 "cells": [
  {
   "cell_type": "markdown",
   "metadata": {},
   "source": [
    "# Stock Price Classification Exercise"
   ]
  },
  {
   "cell_type": "markdown",
   "metadata": {},
   "source": [
    "## Step 0: Import Libraries, Setup API's"
   ]
  },
  {
   "cell_type": "code",
   "execution_count": 1,
   "metadata": {},
   "outputs": [
    {
     "name": "stdout",
     "output_type": "stream",
     "text": [
      "Libraries imported successfully!\n"
     ]
    }
   ],
   "source": [
    "import pandas as pd\n",
    "import numpy as np\n",
    "import matplotlib.pyplot as plt\n",
    "import datetime\n",
    "import quandl\n",
    "from sklearn.tree import DecisionTreeClassifier\n",
    "from sklearn.ensemble import RandomForestClassifier\n",
    "from sklearn.svm import SVC\n",
    "from sklearn.neural_network import MLPClassifier\n",
    "from sklearn.metrics import accuracy_score, recall_score, precision_score, confusion_matrix, roc_curve, auc\n",
    "\n",
    "print(\"Libraries imported successfully!\")"
   ]
  },
  {
   "cell_type": "markdown",
   "metadata": {},
   "source": [
    "## Step 1: Import Data"
   ]
  },
  {
   "cell_type": "code",
   "execution_count": 2,
   "metadata": {},
   "outputs": [
    {
     "data": {
      "text/html": [
       "<div>\n",
       "<style>\n",
       "    .dataframe thead tr:only-child th {\n",
       "        text-align: right;\n",
       "    }\n",
       "\n",
       "    .dataframe thead th {\n",
       "        text-align: left;\n",
       "    }\n",
       "\n",
       "    .dataframe tbody tr th {\n",
       "        vertical-align: top;\n",
       "    }\n",
       "</style>\n",
       "<table border=\"1\" class=\"dataframe\">\n",
       "  <thead>\n",
       "    <tr style=\"text-align: right;\">\n",
       "      <th></th>\n",
       "      <th>Open</th>\n",
       "      <th>High</th>\n",
       "      <th>Low</th>\n",
       "      <th>Close</th>\n",
       "      <th>Adj Close</th>\n",
       "      <th>Volume</th>\n",
       "    </tr>\n",
       "    <tr>\n",
       "      <th>Date</th>\n",
       "      <th></th>\n",
       "      <th></th>\n",
       "      <th></th>\n",
       "      <th></th>\n",
       "      <th></th>\n",
       "      <th></th>\n",
       "    </tr>\n",
       "  </thead>\n",
       "  <tbody>\n",
       "    <tr>\n",
       "      <th>2014-01-02</th>\n",
       "      <td>153.279999</td>\n",
       "      <td>153.910004</td>\n",
       "      <td>151.679993</td>\n",
       "      <td>152.429993</td>\n",
       "      <td>152.429993</td>\n",
       "      <td>113900</td>\n",
       "    </tr>\n",
       "    <tr>\n",
       "      <th>2014-01-03</th>\n",
       "      <td>152.529999</td>\n",
       "      <td>154.059998</td>\n",
       "      <td>150.570007</td>\n",
       "      <td>151.880005</td>\n",
       "      <td>151.880005</td>\n",
       "      <td>125000</td>\n",
       "    </tr>\n",
       "    <tr>\n",
       "      <th>2014-01-06</th>\n",
       "      <td>152.210007</td>\n",
       "      <td>153.100006</td>\n",
       "      <td>150.809998</td>\n",
       "      <td>151.610001</td>\n",
       "      <td>151.610001</td>\n",
       "      <td>103300</td>\n",
       "    </tr>\n",
       "    <tr>\n",
       "      <th>2014-01-07</th>\n",
       "      <td>151.820007</td>\n",
       "      <td>155.000000</td>\n",
       "      <td>151.820007</td>\n",
       "      <td>153.410004</td>\n",
       "      <td>153.410004</td>\n",
       "      <td>135300</td>\n",
       "    </tr>\n",
       "    <tr>\n",
       "      <th>2014-01-08</th>\n",
       "      <td>153.619995</td>\n",
       "      <td>155.630005</td>\n",
       "      <td>153.130005</td>\n",
       "      <td>154.949997</td>\n",
       "      <td>154.949997</td>\n",
       "      <td>166100</td>\n",
       "    </tr>\n",
       "  </tbody>\n",
       "</table>\n",
       "</div>"
      ],
      "text/plain": [
       "                  Open        High         Low       Close   Adj Close  Volume\n",
       "Date                                                                          \n",
       "2014-01-02  153.279999  153.910004  151.679993  152.429993  152.429993  113900\n",
       "2014-01-03  152.529999  154.059998  150.570007  151.880005  151.880005  125000\n",
       "2014-01-06  152.210007  153.100006  150.809998  151.610001  151.610001  103300\n",
       "2014-01-07  151.820007  155.000000  151.820007  153.410004  153.410004  135300\n",
       "2014-01-08  153.619995  155.630005  153.130005  154.949997  154.949997  166100"
      ]
     },
     "execution_count": 2,
     "metadata": {},
     "output_type": "execute_result"
    }
   ],
   "source": [
    "# Load data using pandas\n",
    "stock_data = pd.read_csv(\"Data/ULTI.csv\", index_col = 0, parse_dates=True)\n",
    "stock_data.head()"
   ]
  },
  {
   "cell_type": "markdown",
   "metadata": {},
   "source": [
    "## Step 2: Visualize data"
   ]
  },
  {
   "cell_type": "code",
   "execution_count": 3,
   "metadata": {},
   "outputs": [
    {
     "data": {
      "image/png": "[encoded data removed]",
      "text/plain": [
       "<matplotlib.figure.Figure at 0x26a978be208>"
      ]
     },
     "metadata": {},
     "output_type": "display_data"
    }
   ],
   "source": [
    "plt.figure(1, figsize=(20,5))\n",
    "\n",
    "# Plot the close price\n",
    "plt.subplot(131)\n",
    "stock_data[\"Close\"].plot()\n",
    "plt.title(\"Ultimate Software Close Price\")\n",
    "plt.xlabel(\"Date\")\n",
    "plt.ylabel(\"Close\")\n",
    "\n",
    "# Plot the adjusted closing price\n",
    "plt.subplot(132)\n",
    "stock_data[\"Adj Close\"].plot()\n",
    "plt.title(\"Ultimate Software Adjusted Close Price\")\n",
    "plt.xlabel(\"Date\")\n",
    "plt.ylabel(\"Adj. Close\")\n",
    "\n",
    "# Plot the trading volume\n",
    "plt.subplot(133)\n",
    "stock_data[\"Volume\"].plot()\n",
    "plt.title(\"Ultimate Software Volume\")\n",
    "plt.xlabel(\"Date\")\n",
    "plt.ylabel(\"Volume\")\n",
    "\n",
    "plt.show()"
   ]
  },
  {
   "cell_type": "markdown",
   "metadata": {},
   "source": [
    "## Step 3: Feature Engineering"
   ]
  },
  {
   "cell_type": "markdown",
   "metadata": {},
   "source": [
    "### Step 3a: Define the target variable"
   ]
  },
  {
   "cell_type": "markdown",
   "metadata": {},
   "source": [
    "The first step is to define the target variable. We are trying to build a model that can predict if the stock price is going to increase or decrease on the following day of trading based on the information we have at market close. The target variable will be defined as a binary variable indicating a day over day Increase (True) or day over day Decrease (False)."
   ]
  },
  {
   "cell_type": "code",
   "execution_count": 4,
   "metadata": {},
   "outputs": [
    {
     "data": {
      "text/html": [
       "<div>\n",
       "<style>\n",
       "    .dataframe thead tr:only-child th {\n",
       "        text-align: right;\n",
       "    }\n",
       "\n",
       "    .dataframe thead th {\n",
       "        text-align: left;\n",
       "    }\n",
       "\n",
       "    .dataframe tbody tr th {\n",
       "        vertical-align: top;\n",
       "    }\n",
       "</style>\n",
       "<table border=\"1\" class=\"dataframe\">\n",
       "  <thead>\n",
       "    <tr style=\"text-align: right;\">\n",
       "      <th></th>\n",
       "      <th>Open</th>\n",
       "      <th>High</th>\n",
       "      <th>Low</th>\n",
       "      <th>Close</th>\n",
       "      <th>Adj Close</th>\n",
       "      <th>Volume</th>\n",
       "      <th>Next Day Change</th>\n",
       "      <th>Target</th>\n",
       "    </tr>\n",
       "    <tr>\n",
       "      <th>Date</th>\n",
       "      <th></th>\n",
       "      <th></th>\n",
       "      <th></th>\n",
       "      <th></th>\n",
       "      <th></th>\n",
       "      <th></th>\n",
       "      <th></th>\n",
       "      <th></th>\n",
       "    </tr>\n",
       "  </thead>\n",
       "  <tbody>\n",
       "    <tr>\n",
       "      <th>2014-01-02</th>\n",
       "      <td>153.279999</td>\n",
       "      <td>153.910004</td>\n",
       "      <td>151.679993</td>\n",
       "      <td>152.429993</td>\n",
       "      <td>152.429993</td>\n",
       "      <td>113900</td>\n",
       "      <td>0.549988</td>\n",
       "      <td>True</td>\n",
       "    </tr>\n",
       "    <tr>\n",
       "      <th>2014-01-03</th>\n",
       "      <td>152.529999</td>\n",
       "      <td>154.059998</td>\n",
       "      <td>150.570007</td>\n",
       "      <td>151.880005</td>\n",
       "      <td>151.880005</td>\n",
       "      <td>125000</td>\n",
       "      <td>0.270004</td>\n",
       "      <td>False</td>\n",
       "    </tr>\n",
       "    <tr>\n",
       "      <th>2014-01-06</th>\n",
       "      <td>152.210007</td>\n",
       "      <td>153.100006</td>\n",
       "      <td>150.809998</td>\n",
       "      <td>151.610001</td>\n",
       "      <td>151.610001</td>\n",
       "      <td>103300</td>\n",
       "      <td>-1.800003</td>\n",
       "      <td>False</td>\n",
       "    </tr>\n",
       "    <tr>\n",
       "      <th>2014-01-07</th>\n",
       "      <td>151.820007</td>\n",
       "      <td>155.000000</td>\n",
       "      <td>151.820007</td>\n",
       "      <td>153.410004</td>\n",
       "      <td>153.410004</td>\n",
       "      <td>135300</td>\n",
       "      <td>-1.539993</td>\n",
       "      <td>True</td>\n",
       "    </tr>\n",
       "    <tr>\n",
       "      <th>2014-01-08</th>\n",
       "      <td>153.619995</td>\n",
       "      <td>155.630005</td>\n",
       "      <td>153.130005</td>\n",
       "      <td>154.949997</td>\n",
       "      <td>154.949997</td>\n",
       "      <td>166100</td>\n",
       "      <td>2.770004</td>\n",
       "      <td>True</td>\n",
       "    </tr>\n",
       "  </tbody>\n",
       "</table>\n",
       "</div>"
      ],
      "text/plain": [
       "                  Open        High         Low       Close   Adj Close  \\\n",
       "Date                                                                     \n",
       "2014-01-02  153.279999  153.910004  151.679993  152.429993  152.429993   \n",
       "2014-01-03  152.529999  154.059998  150.570007  151.880005  151.880005   \n",
       "2014-01-06  152.210007  153.100006  150.809998  151.610001  151.610001   \n",
       "2014-01-07  151.820007  155.000000  151.820007  153.410004  153.410004   \n",
       "2014-01-08  153.619995  155.630005  153.130005  154.949997  154.949997   \n",
       "\n",
       "            Volume  Next Day Change  Target  \n",
       "Date                                         \n",
       "2014-01-02  113900         0.549988    True  \n",
       "2014-01-03  125000         0.270004   False  \n",
       "2014-01-06  103300        -1.800003   False  \n",
       "2014-01-07  135300        -1.539993    True  \n",
       "2014-01-08  166100         2.770004    True  "
      ]
     },
     "execution_count": 4,
     "metadata": {},
     "output_type": "execute_result"
    }
   ],
   "source": [
    "# Define target variable\n",
    "stock_data[\"Next Day Change\"] = stock_data[\"Close\"]-stock_data[\"Close\"].shift(-1)\n",
    "stock_data[\"Target\"] = stock_data[\"Next Day Change\"].shift(-1)>0\n",
    "\n",
    "stock_data.head()"
   ]
  },
  {
   "cell_type": "markdown",
   "metadata": {},
   "source": [
    "### Step 3b: Bollinger Bands"
   ]
  },
  {
   "cell_type": "markdown",
   "metadata": {},
   "source": [
    "The first price indicators we will use are called Bollinger Bands. Bollinger Bands consist of a moving average plus a higher line representing the moving average plus a set number of standard deviations above the moving average as well as a lower line representing the same number of standard deviations below the line. The more volatile the stock, the wider the band will be.\n",
    "\n",
    "A common use is the contrarian strategy, in which the investor sells when it hits the higher band and buys when it hits the lower band. The strategy assumes the price tends to stay within the bands.\n",
    "\n",
    "We will calculate the ratio of the current day price to each of the bands, using a 60 day time window and 2 standard deviations.\n",
    "\n",
    "More info on Bollinger Bands: https://www.investopedia.com/articles/technical/102201.asp"
   ]
  },
  {
   "cell_type": "code",
   "execution_count": 5,
   "metadata": {},
   "outputs": [
    {
     "data": {
      "text/html": [
       "<div>\n",
       "<style>\n",
       "    .dataframe thead tr:only-child th {\n",
       "        text-align: right;\n",
       "    }\n",
       "\n",
       "    .dataframe thead th {\n",
       "        text-align: left;\n",
       "    }\n",
       "\n",
       "    .dataframe tbody tr th {\n",
       "        vertical-align: top;\n",
       "    }\n",
       "</style>\n",
       "<table border=\"1\" class=\"dataframe\">\n",
       "  <thead>\n",
       "    <tr style=\"text-align: right;\">\n",
       "      <th></th>\n",
       "      <th>Close</th>\n",
       "      <th>BB_MA</th>\n",
       "      <th>BB_Upper</th>\n",
       "      <th>BB_Lower</th>\n",
       "      <th>Close_vs_BB_Upper</th>\n",
       "      <th>Close_vs_BB_Lower</th>\n",
       "    </tr>\n",
       "    <tr>\n",
       "      <th>Date</th>\n",
       "      <th></th>\n",
       "      <th></th>\n",
       "      <th></th>\n",
       "      <th></th>\n",
       "      <th></th>\n",
       "      <th></th>\n",
       "    </tr>\n",
       "  </thead>\n",
       "  <tbody>\n",
       "    <tr>\n",
       "      <th>2014-01-02</th>\n",
       "      <td>152.429993</td>\n",
       "      <td>NaN</td>\n",
       "      <td>NaN</td>\n",
       "      <td>NaN</td>\n",
       "      <td>NaN</td>\n",
       "      <td>NaN</td>\n",
       "    </tr>\n",
       "    <tr>\n",
       "      <th>2014-01-03</th>\n",
       "      <td>151.880005</td>\n",
       "      <td>NaN</td>\n",
       "      <td>NaN</td>\n",
       "      <td>NaN</td>\n",
       "      <td>NaN</td>\n",
       "      <td>NaN</td>\n",
       "    </tr>\n",
       "    <tr>\n",
       "      <th>2014-01-06</th>\n",
       "      <td>151.610001</td>\n",
       "      <td>151.973333</td>\n",
       "      <td>152.809106</td>\n",
       "      <td>151.137560</td>\n",
       "      <td>0.992153</td>\n",
       "      <td>1.003126</td>\n",
       "    </tr>\n",
       "    <tr>\n",
       "      <th>2014-01-07</th>\n",
       "      <td>153.410004</td>\n",
       "      <td>152.332501</td>\n",
       "      <td>153.923004</td>\n",
       "      <td>150.741997</td>\n",
       "      <td>0.996667</td>\n",
       "      <td>1.017699</td>\n",
       "    </tr>\n",
       "    <tr>\n",
       "      <th>2014-01-08</th>\n",
       "      <td>154.949997</td>\n",
       "      <td>152.856000</td>\n",
       "      <td>155.572304</td>\n",
       "      <td>150.139696</td>\n",
       "      <td>0.996000</td>\n",
       "      <td>1.032039</td>\n",
       "    </tr>\n",
       "    <tr>\n",
       "      <th>2014-01-09</th>\n",
       "      <td>152.179993</td>\n",
       "      <td>152.743332</td>\n",
       "      <td>155.234778</td>\n",
       "      <td>150.251887</td>\n",
       "      <td>0.980322</td>\n",
       "      <td>1.012832</td>\n",
       "    </tr>\n",
       "    <tr>\n",
       "      <th>2014-01-10</th>\n",
       "      <td>151.789993</td>\n",
       "      <td>152.607141</td>\n",
       "      <td>154.992953</td>\n",
       "      <td>150.221329</td>\n",
       "      <td>0.979335</td>\n",
       "      <td>1.010442</td>\n",
       "    </tr>\n",
       "    <tr>\n",
       "      <th>2014-01-13</th>\n",
       "      <td>150.889999</td>\n",
       "      <td>152.392498</td>\n",
       "      <td>154.913059</td>\n",
       "      <td>149.871937</td>\n",
       "      <td>0.974030</td>\n",
       "      <td>1.006793</td>\n",
       "    </tr>\n",
       "    <tr>\n",
       "      <th>2014-01-14</th>\n",
       "      <td>154.369995</td>\n",
       "      <td>152.612220</td>\n",
       "      <td>155.313529</td>\n",
       "      <td>149.910911</td>\n",
       "      <td>0.993925</td>\n",
       "      <td>1.029745</td>\n",
       "    </tr>\n",
       "    <tr>\n",
       "      <th>2014-01-15</th>\n",
       "      <td>154.009995</td>\n",
       "      <td>152.751997</td>\n",
       "      <td>155.447883</td>\n",
       "      <td>150.056112</td>\n",
       "      <td>0.990750</td>\n",
       "      <td>1.026349</td>\n",
       "    </tr>\n",
       "    <tr>\n",
       "      <th>2014-01-16</th>\n",
       "      <td>156.179993</td>\n",
       "      <td>153.063633</td>\n",
       "      <td>156.352123</td>\n",
       "      <td>149.775144</td>\n",
       "      <td>0.998899</td>\n",
       "      <td>1.042763</td>\n",
       "    </tr>\n",
       "  </tbody>\n",
       "</table>\n",
       "</div>"
      ],
      "text/plain": [
       "                 Close       BB_MA    BB_Upper    BB_Lower  Close_vs_BB_Upper  \\\n",
       "Date                                                                            \n",
       "2014-01-02  152.429993         NaN         NaN         NaN                NaN   \n",
       "2014-01-03  151.880005         NaN         NaN         NaN                NaN   \n",
       "2014-01-06  151.610001  151.973333  152.809106  151.137560           0.992153   \n",
       "2014-01-07  153.410004  152.332501  153.923004  150.741997           0.996667   \n",
       "2014-01-08  154.949997  152.856000  155.572304  150.139696           0.996000   \n",
       "2014-01-09  152.179993  152.743332  155.234778  150.251887           0.980322   \n",
       "2014-01-10  151.789993  152.607141  154.992953  150.221329           0.979335   \n",
       "2014-01-13  150.889999  152.392498  154.913059  149.871937           0.974030   \n",
       "2014-01-14  154.369995  152.612220  155.313529  149.910911           0.993925   \n",
       "2014-01-15  154.009995  152.751997  155.447883  150.056112           0.990750   \n",
       "2014-01-16  156.179993  153.063633  156.352123  149.775144           0.998899   \n",
       "\n",
       "            Close_vs_BB_Lower  \n",
       "Date                           \n",
       "2014-01-02                NaN  \n",
       "2014-01-03                NaN  \n",
       "2014-01-06           1.003126  \n",
       "2014-01-07           1.017699  \n",
       "2014-01-08           1.032039  \n",
       "2014-01-09           1.012832  \n",
       "2014-01-10           1.010442  \n",
       "2014-01-13           1.006793  \n",
       "2014-01-14           1.029745  \n",
       "2014-01-15           1.026349  \n",
       "2014-01-16           1.042763  "
      ]
     },
     "execution_count": 5,
     "metadata": {},
     "output_type": "execute_result"
    }
   ],
   "source": [
    "# Define parameters for moving average\n",
    "bb_time_window = 60\n",
    "\n",
    "# Define moving averages for closing price\n",
    "stock_data[\"BB_MA\"] = stock_data[\"Close\"].rolling(window=bb_time_window, min_periods=3).mean()\n",
    "\n",
    "# Define the upper band\n",
    "stock_data[\"BB_Upper\"] = stock_data[\"BB_MA\"]+2*stock_data[\"Close\"].rolling(window=bb_time_window, min_periods=3).std()\n",
    "stock_data[\"BB_Lower\"] = stock_data[\"BB_MA\"]-2*stock_data[\"Close\"].rolling(window=bb_time_window, min_periods=3).std()\n",
    "\n",
    "# Define comparison to upper and lower bands as ratios\n",
    "stock_data[\"Close_vs_BB_Upper\"] = stock_data[\"Close\"]/stock_data[\"BB_Upper\"]\n",
    "stock_data[\"Close_vs_BB_Lower\"] = stock_data[\"Close\"]/stock_data[\"BB_Lower\"]\n",
    "\n",
    "stock_data[[\"Close\",\"BB_MA\",\"BB_Upper\",\"BB_Lower\",\"Close_vs_BB_Upper\",\"Close_vs_BB_Lower\"]].head(11)"
   ]
  },
  {
   "cell_type": "markdown",
   "metadata": {},
   "source": [
    "### Step 3c: Moving Average Convergence Divergence"
   ]
  },
  {
   "cell_type": "markdown",
   "metadata": {},
   "source": [
    "https://www.investopedia.com/terms/m/macd.asp"
   ]
  },
  {
   "cell_type": "code",
   "execution_count": 6,
   "metadata": {},
   "outputs": [
    {
     "data": {
      "text/html": [
       "<div>\n",
       "<style>\n",
       "    .dataframe thead tr:only-child th {\n",
       "        text-align: right;\n",
       "    }\n",
       "\n",
       "    .dataframe thead th {\n",
       "        text-align: left;\n",
       "    }\n",
       "\n",
       "    .dataframe tbody tr th {\n",
       "        vertical-align: top;\n",
       "    }\n",
       "</style>\n",
       "<table border=\"1\" class=\"dataframe\">\n",
       "  <thead>\n",
       "    <tr style=\"text-align: right;\">\n",
       "      <th></th>\n",
       "      <th>Close</th>\n",
       "      <th>MACD_Short</th>\n",
       "      <th>MACD_Long</th>\n",
       "      <th>MACD_Line</th>\n",
       "      <th>MACD_Signal</th>\n",
       "    </tr>\n",
       "    <tr>\n",
       "      <th>Date</th>\n",
       "      <th></th>\n",
       "      <th></th>\n",
       "      <th></th>\n",
       "      <th></th>\n",
       "      <th></th>\n",
       "    </tr>\n",
       "  </thead>\n",
       "  <tbody>\n",
       "    <tr>\n",
       "      <th>2014-01-02</th>\n",
       "      <td>152.429993</td>\n",
       "      <td>152.429993</td>\n",
       "      <td>152.429993</td>\n",
       "      <td>0.000000</td>\n",
       "      <td>0.000000</td>\n",
       "    </tr>\n",
       "    <tr>\n",
       "      <th>2014-01-03</th>\n",
       "      <td>151.880005</td>\n",
       "      <td>152.132083</td>\n",
       "      <td>152.144422</td>\n",
       "      <td>-0.012339</td>\n",
       "      <td>-0.006855</td>\n",
       "    </tr>\n",
       "    <tr>\n",
       "      <th>2014-01-06</th>\n",
       "      <td>151.610001</td>\n",
       "      <td>151.928314</td>\n",
       "      <td>151.952410</td>\n",
       "      <td>-0.024096</td>\n",
       "      <td>-0.013921</td>\n",
       "    </tr>\n",
       "    <tr>\n",
       "      <th>2014-01-07</th>\n",
       "      <td>153.410004</td>\n",
       "      <td>152.396026</td>\n",
       "      <td>152.359890</td>\n",
       "      <td>0.036136</td>\n",
       "      <td>0.003036</td>\n",
       "    </tr>\n",
       "    <tr>\n",
       "      <th>2014-01-08</th>\n",
       "      <td>154.949997</td>\n",
       "      <td>153.089931</td>\n",
       "      <td>152.960546</td>\n",
       "      <td>0.129384</td>\n",
       "      <td>0.040622</td>\n",
       "    </tr>\n",
       "  </tbody>\n",
       "</table>\n",
       "</div>"
      ],
      "text/plain": [
       "                 Close  MACD_Short   MACD_Long  MACD_Line  MACD_Signal\n",
       "Date                                                                  \n",
       "2014-01-02  152.429993  152.429993  152.429993   0.000000     0.000000\n",
       "2014-01-03  151.880005  152.132083  152.144422  -0.012339    -0.006855\n",
       "2014-01-06  151.610001  151.928314  151.952410  -0.024096    -0.013921\n",
       "2014-01-07  153.410004  152.396026  152.359890   0.036136     0.003036\n",
       "2014-01-08  154.949997  153.089931  152.960546   0.129384     0.040622"
      ]
     },
     "execution_count": 6,
     "metadata": {},
     "output_type": "execute_result"
    }
   ],
   "source": [
    "# Define parameters for MACD\n",
    "macd_short = 12\n",
    "macd_long = 26\n",
    "macd_signal = 9\n",
    "\n",
    "stock_data[\"MACD_Short\"] = stock_data[\"Close\"].ewm(span=macd_short).mean()\n",
    "stock_data[\"MACD_Long\"] = stock_data[\"Close\"].ewm(span=macd_long).mean()\n",
    "stock_data[\"MACD_Line\"] = stock_data[\"MACD_Short\"] - stock_data[\"MACD_Long\"]\n",
    "stock_data[\"MACD_Signal\"] = stock_data[\"MACD_Line\"].ewm(span=macd_signal).mean() # this is the indicator we will use in the model\n",
    "\n",
    "stock_data[[\"Close\",\"MACD_Short\",\"MACD_Long\",\"MACD_Line\", \"MACD_Signal\"]].head()"
   ]
  },
  {
   "cell_type": "markdown",
   "metadata": {},
   "source": [
    "### Step 3d: Relative Strength Index"
   ]
  },
  {
   "cell_type": "markdown",
   "metadata": {},
   "source": [
    "https://www.investopedia.com/terms/r/rsi.asp"
   ]
  },
  {
   "cell_type": "code",
   "execution_count": 7,
   "metadata": {},
   "outputs": [
    {
     "data": {
      "text/html": [
       "<div>\n",
       "<style>\n",
       "    .dataframe thead tr:only-child th {\n",
       "        text-align: right;\n",
       "    }\n",
       "\n",
       "    .dataframe thead th {\n",
       "        text-align: left;\n",
       "    }\n",
       "\n",
       "    .dataframe tbody tr th {\n",
       "        vertical-align: top;\n",
       "    }\n",
       "</style>\n",
       "<table border=\"1\" class=\"dataframe\">\n",
       "  <thead>\n",
       "    <tr style=\"text-align: right;\">\n",
       "      <th></th>\n",
       "      <th>Open</th>\n",
       "      <th>Close</th>\n",
       "      <th>Daily Change</th>\n",
       "      <th>AvgGain</th>\n",
       "      <th>AvgLoss</th>\n",
       "      <th>RS</th>\n",
       "      <th>RSI</th>\n",
       "    </tr>\n",
       "    <tr>\n",
       "      <th>Date</th>\n",
       "      <th></th>\n",
       "      <th></th>\n",
       "      <th></th>\n",
       "      <th></th>\n",
       "      <th></th>\n",
       "      <th></th>\n",
       "      <th></th>\n",
       "    </tr>\n",
       "  </thead>\n",
       "  <tbody>\n",
       "    <tr>\n",
       "      <th>2014-01-16</th>\n",
       "      <td>152.860001</td>\n",
       "      <td>156.179993</td>\n",
       "      <td>3.319992</td>\n",
       "      <td>NaN</td>\n",
       "      <td>NaN</td>\n",
       "      <td>NaN</td>\n",
       "      <td>NaN</td>\n",
       "    </tr>\n",
       "    <tr>\n",
       "      <th>2014-01-17</th>\n",
       "      <td>156.009995</td>\n",
       "      <td>157.050003</td>\n",
       "      <td>1.040008</td>\n",
       "      <td>NaN</td>\n",
       "      <td>NaN</td>\n",
       "      <td>NaN</td>\n",
       "      <td>NaN</td>\n",
       "    </tr>\n",
       "    <tr>\n",
       "      <th>2014-01-21</th>\n",
       "      <td>158.000000</td>\n",
       "      <td>157.449997</td>\n",
       "      <td>-0.550003</td>\n",
       "      <td>NaN</td>\n",
       "      <td>NaN</td>\n",
       "      <td>NaN</td>\n",
       "      <td>NaN</td>\n",
       "    </tr>\n",
       "    <tr>\n",
       "      <th>2014-01-22</th>\n",
       "      <td>157.220001</td>\n",
       "      <td>159.830002</td>\n",
       "      <td>2.610001</td>\n",
       "      <td>2.178332</td>\n",
       "      <td>0.861254</td>\n",
       "      <td>2.529257</td>\n",
       "      <td>71.665425</td>\n",
       "    </tr>\n",
       "    <tr>\n",
       "      <th>2014-01-23</th>\n",
       "      <td>159.360001</td>\n",
       "      <td>157.559998</td>\n",
       "      <td>-1.800003</td>\n",
       "      <td>2.178332</td>\n",
       "      <td>0.980003</td>\n",
       "      <td>2.222780</td>\n",
       "      <td>68.970891</td>\n",
       "    </tr>\n",
       "    <tr>\n",
       "      <th>2014-01-24</th>\n",
       "      <td>156.850006</td>\n",
       "      <td>155.169998</td>\n",
       "      <td>-1.680008</td>\n",
       "      <td>2.178332</td>\n",
       "      <td>1.108755</td>\n",
       "      <td>1.964665</td>\n",
       "      <td>66.269374</td>\n",
       "    </tr>\n",
       "    <tr>\n",
       "      <th>2014-01-27</th>\n",
       "      <td>157.889999</td>\n",
       "      <td>153.750000</td>\n",
       "      <td>-4.139999</td>\n",
       "      <td>2.178332</td>\n",
       "      <td>1.551254</td>\n",
       "      <td>1.404239</td>\n",
       "      <td>58.406802</td>\n",
       "    </tr>\n",
       "    <tr>\n",
       "      <th>2014-01-28</th>\n",
       "      <td>153.880005</td>\n",
       "      <td>156.320007</td>\n",
       "      <td>2.440002</td>\n",
       "      <td>2.320000</td>\n",
       "      <td>1.551254</td>\n",
       "      <td>1.495564</td>\n",
       "      <td>59.928894</td>\n",
       "    </tr>\n",
       "    <tr>\n",
       "      <th>2014-01-29</th>\n",
       "      <td>154.919998</td>\n",
       "      <td>155.869995</td>\n",
       "      <td>0.949997</td>\n",
       "      <td>2.256665</td>\n",
       "      <td>1.551254</td>\n",
       "      <td>1.454736</td>\n",
       "      <td>59.262423</td>\n",
       "    </tr>\n",
       "    <tr>\n",
       "      <th>2014-01-30</th>\n",
       "      <td>157.770004</td>\n",
       "      <td>162.320007</td>\n",
       "      <td>4.550003</td>\n",
       "      <td>2.584285</td>\n",
       "      <td>1.340003</td>\n",
       "      <td>1.928567</td>\n",
       "      <td>65.853606</td>\n",
       "    </tr>\n",
       "  </tbody>\n",
       "</table>\n",
       "</div>"
      ],
      "text/plain": [
       "                  Open       Close  Daily Change   AvgGain   AvgLoss  \\\n",
       "Date                                                                   \n",
       "2014-01-16  152.860001  156.179993      3.319992       NaN       NaN   \n",
       "2014-01-17  156.009995  157.050003      1.040008       NaN       NaN   \n",
       "2014-01-21  158.000000  157.449997     -0.550003       NaN       NaN   \n",
       "2014-01-22  157.220001  159.830002      2.610001  2.178332  0.861254   \n",
       "2014-01-23  159.360001  157.559998     -1.800003  2.178332  0.980003   \n",
       "2014-01-24  156.850006  155.169998     -1.680008  2.178332  1.108755   \n",
       "2014-01-27  157.889999  153.750000     -4.139999  2.178332  1.551254   \n",
       "2014-01-28  153.880005  156.320007      2.440002  2.320000  1.551254   \n",
       "2014-01-29  154.919998  155.869995      0.949997  2.256665  1.551254   \n",
       "2014-01-30  157.770004  162.320007      4.550003  2.584285  1.340003   \n",
       "\n",
       "                  RS        RSI  \n",
       "Date                             \n",
       "2014-01-16       NaN        NaN  \n",
       "2014-01-17       NaN        NaN  \n",
       "2014-01-21       NaN        NaN  \n",
       "2014-01-22  2.529257  71.665425  \n",
       "2014-01-23  2.222780  68.970891  \n",
       "2014-01-24  1.964665  66.269374  \n",
       "2014-01-27  1.404239  58.406802  \n",
       "2014-01-28  1.495564  59.928894  \n",
       "2014-01-29  1.454736  59.262423  \n",
       "2014-01-30  1.928567  65.853606  "
      ]
     },
     "execution_count": 7,
     "metadata": {},
     "output_type": "execute_result"
    }
   ],
   "source": [
    "# Define RSI period\n",
    "rsi_period = 14\n",
    "\n",
    "# Calculate Open vs Close change\n",
    "stock_data[\"Daily Change\"] = stock_data[\"Close\"] - stock_data[\"Open\"]\n",
    "\n",
    "# Calculate RSI\n",
    "stock_data[\"AvgGain\"] = stock_data[\"Daily Change\"].rolling(window=rsi_period).apply(lambda x: np.mean(x[x>0]) if len(x[x>0])>0 else 0)\n",
    "stock_data[\"AvgLoss\"] = stock_data[\"Daily Change\"].rolling(window=rsi_period).apply(lambda x: np.abs(np.mean(x[x<0])) if len(x[x<0])>0 else 0)\n",
    "stock_data[\"RS\"] = stock_data[\"AvgGain\"]/stock_data[\"AvgLoss\"]\n",
    "stock_data[\"RS\"] = stock_data[\"RS\"].replace([np.inf, -np.inf], 0)\n",
    "stock_data[\"RSI\"] = 100 - 100/(1+stock_data[\"RS\"]) # this is the indicator we will use in the model\n",
    "\n",
    "stock_data[[\"Open\", \"Close\", \"Daily Change\", \"AvgGain\", \"AvgLoss\",\"RS\",\"RSI\"]].iloc[10:20,]"
   ]
  },
  {
   "cell_type": "markdown",
   "metadata": {
    "collapsed": true
   },
   "source": [
    "### Step 3e: Define stochastic oscillators"
   ]
  },
  {
   "cell_type": "markdown",
   "metadata": {},
   "source": [
    "https://www.investopedia.com/terms/s/stochasticoscillator.asp"
   ]
  },
  {
   "cell_type": "code",
   "execution_count": 8,
   "metadata": {},
   "outputs": [
    {
     "data": {
      "text/html": [
       "<div>\n",
       "<style>\n",
       "    .dataframe thead tr:only-child th {\n",
       "        text-align: right;\n",
       "    }\n",
       "\n",
       "    .dataframe thead th {\n",
       "        text-align: left;\n",
       "    }\n",
       "\n",
       "    .dataframe tbody tr th {\n",
       "        vertical-align: top;\n",
       "    }\n",
       "</style>\n",
       "<table border=\"1\" class=\"dataframe\">\n",
       "  <thead>\n",
       "    <tr style=\"text-align: right;\">\n",
       "      <th></th>\n",
       "      <th>Close</th>\n",
       "      <th>Low</th>\n",
       "      <th>High</th>\n",
       "      <th>Fast_Oscillator</th>\n",
       "      <th>Slow_Oscillator</th>\n",
       "    </tr>\n",
       "    <tr>\n",
       "      <th>Date</th>\n",
       "      <th></th>\n",
       "      <th></th>\n",
       "      <th></th>\n",
       "      <th></th>\n",
       "      <th></th>\n",
       "    </tr>\n",
       "  </thead>\n",
       "  <tbody>\n",
       "    <tr>\n",
       "      <th>2014-01-14</th>\n",
       "      <td>154.369995</td>\n",
       "      <td>150.309998</td>\n",
       "      <td>154.970001</td>\n",
       "      <td>NaN</td>\n",
       "      <td>NaN</td>\n",
       "    </tr>\n",
       "    <tr>\n",
       "      <th>2014-01-15</th>\n",
       "      <td>154.009995</td>\n",
       "      <td>153.050003</td>\n",
       "      <td>154.850006</td>\n",
       "      <td>NaN</td>\n",
       "      <td>NaN</td>\n",
       "    </tr>\n",
       "    <tr>\n",
       "      <th>2014-01-16</th>\n",
       "      <td>156.179993</td>\n",
       "      <td>152.860001</td>\n",
       "      <td>156.979996</td>\n",
       "      <td>NaN</td>\n",
       "      <td>NaN</td>\n",
       "    </tr>\n",
       "    <tr>\n",
       "      <th>2014-01-17</th>\n",
       "      <td>157.050003</td>\n",
       "      <td>155.350006</td>\n",
       "      <td>157.899994</td>\n",
       "      <td>NaN</td>\n",
       "      <td>NaN</td>\n",
       "    </tr>\n",
       "    <tr>\n",
       "      <th>2014-01-21</th>\n",
       "      <td>157.449997</td>\n",
       "      <td>156.690002</td>\n",
       "      <td>159.309998</td>\n",
       "      <td>NaN</td>\n",
       "      <td>NaN</td>\n",
       "    </tr>\n",
       "    <tr>\n",
       "      <th>2014-01-22</th>\n",
       "      <td>159.830002</td>\n",
       "      <td>156.580002</td>\n",
       "      <td>160.020004</td>\n",
       "      <td>98.230895</td>\n",
       "      <td>NaN</td>\n",
       "    </tr>\n",
       "    <tr>\n",
       "      <th>2014-01-23</th>\n",
       "      <td>157.559998</td>\n",
       "      <td>157.339996</td>\n",
       "      <td>159.360001</td>\n",
       "      <td>77.094927</td>\n",
       "      <td>NaN</td>\n",
       "    </tr>\n",
       "    <tr>\n",
       "      <th>2014-01-24</th>\n",
       "      <td>155.169998</td>\n",
       "      <td>153.910004</td>\n",
       "      <td>158.649994</td>\n",
       "      <td>54.841678</td>\n",
       "      <td>76.722500</td>\n",
       "    </tr>\n",
       "    <tr>\n",
       "      <th>2014-01-27</th>\n",
       "      <td>153.750000</td>\n",
       "      <td>150.520004</td>\n",
       "      <td>157.889999</td>\n",
       "      <td>41.620102</td>\n",
       "      <td>57.852236</td>\n",
       "    </tr>\n",
       "  </tbody>\n",
       "</table>\n",
       "</div>"
      ],
      "text/plain": [
       "                 Close         Low        High  Fast_Oscillator  \\\n",
       "Date                                                              \n",
       "2014-01-14  154.369995  150.309998  154.970001              NaN   \n",
       "2014-01-15  154.009995  153.050003  154.850006              NaN   \n",
       "2014-01-16  156.179993  152.860001  156.979996              NaN   \n",
       "2014-01-17  157.050003  155.350006  157.899994              NaN   \n",
       "2014-01-21  157.449997  156.690002  159.309998              NaN   \n",
       "2014-01-22  159.830002  156.580002  160.020004        98.230895   \n",
       "2014-01-23  157.559998  157.339996  159.360001        77.094927   \n",
       "2014-01-24  155.169998  153.910004  158.649994        54.841678   \n",
       "2014-01-27  153.750000  150.520004  157.889999        41.620102   \n",
       "\n",
       "            Slow_Oscillator  \n",
       "Date                         \n",
       "2014-01-14              NaN  \n",
       "2014-01-15              NaN  \n",
       "2014-01-16              NaN  \n",
       "2014-01-17              NaN  \n",
       "2014-01-21              NaN  \n",
       "2014-01-22              NaN  \n",
       "2014-01-23              NaN  \n",
       "2014-01-24        76.722500  \n",
       "2014-01-27        57.852236  "
      ]
     },
     "execution_count": 8,
     "metadata": {},
     "output_type": "execute_result"
    }
   ],
   "source": [
    "# Define stochastics\n",
    "fast = 14\n",
    "slow = 3\n",
    "\n",
    "# We will use both fast and slow oscillators in the model\n",
    "stock_data[\"Fast_Oscillator\"] = 100*((stock_data[\"Close\"] - stock_data[\"Low\"].rolling(window=fast).min()) / \\\n",
    "                                (stock_data[\"High\"].rolling(window=fast).max()-stock_data[\"Low\"].rolling(window=fast).min()))\n",
    "\n",
    "stock_data[\"Slow_Oscillator\"] = stock_data[\"Fast_Oscillator\"].rolling(window=slow).mean()\n",
    "\n",
    "stock_data[[\"Close\",\"Low\",\"High\",\"Fast_Oscillator\",\"Slow_Oscillator\"]].iloc[8:17,]"
   ]
  },
  {
   "cell_type": "code",
   "execution_count": 9,
   "metadata": {},
   "outputs": [
    {
     "name": "stdout",
     "output_type": "stream",
     "text": [
      "Number of columns: 24\n",
      "Index(['Open', 'High', 'Low', 'Close', 'Adj Close', 'Volume',\n",
      "       'Next Day Change', 'Target', 'BB_MA', 'BB_Upper', 'BB_Lower',\n",
      "       'Close_vs_BB_Upper', 'Close_vs_BB_Lower', 'MACD_Short', 'MACD_Long',\n",
      "       'MACD_Line', 'MACD_Signal', 'Daily Change', 'AvgGain', 'AvgLoss', 'RS',\n",
      "       'RSI', 'Fast_Oscillator', 'Slow_Oscillator'],\n",
      "      dtype='object')\n"
     ]
    }
   ],
   "source": [
    "print(\"Number of columns: %s\" % len(stock_data.columns))\n",
    "print(stock_data.columns)"
   ]
  },
  {
   "cell_type": "markdown",
   "metadata": {},
   "source": [
    "## Step 4: Set up data for modeling"
   ]
  },
  {
   "cell_type": "code",
   "execution_count": 10,
   "metadata": {
    "collapsed": true
   },
   "outputs": [],
   "source": [
    "# Remove NaN rows\n",
    "stock_data = stock_data.dropna()"
   ]
  },
  {
   "cell_type": "code",
   "execution_count": 11,
   "metadata": {
    "collapsed": true
   },
   "outputs": [],
   "source": [
    "# Define feature columns\n",
    "feature_cols = [\"Close_vs_BB_Upper\", \"Close_vs_BB_Lower\", \"MACD_Signal\", \"RSI\", \"Fast_Oscillator\", \"Slow_Oscillator\"]\n",
    "\n",
    "target = \"Target\"\n",
    "\n",
    "# Split data into model inputs (X) and model outputs (Y) \n",
    "X = stock_data[feature_cols]\n",
    "Y = stock_data[target]"
   ]
  },
  {
   "cell_type": "code",
   "execution_count": 12,
   "metadata": {},
   "outputs": [],
   "source": [
    "# Set up training and testing data sets\n",
    "train_start = np.min(stock_data.index)\n",
    "train_end = datetime.datetime(2016,12,31)\n",
    "test_start = train_end + datetime.timedelta(days=1) # the day after training stops\n",
    "\n",
    "# Define training set\n",
    "X_train = X[:train_end]\n",
    "Y_train = Y[:train_end]\n",
    "\n",
    "# Define test set\n",
    "X_test = X[test_start:]\n",
    "Y_test = Y[test_start:]"
   ]
  },
  {
   "cell_type": "markdown",
   "metadata": {},
   "source": [
    "## Step 5: Fit Model to Data"
   ]
  },
  {
   "cell_type": "code",
   "execution_count": 13,
   "metadata": {},
   "outputs": [
    {
     "data": {
      "text/plain": [
       "DecisionTreeClassifier(class_weight=None, criterion='gini', max_depth=None,\n",
       "            max_features=None, max_leaf_nodes=None,\n",
       "            min_impurity_decrease=0.0, min_impurity_split=None,\n",
       "            min_samples_leaf=1, min_samples_split=2,\n",
       "            min_weight_fraction_leaf=0.0, presort=False, random_state=0,\n",
       "            splitter='best')"
      ]
     },
     "execution_count": 13,
     "metadata": {},
     "output_type": "execute_result"
    }
   ],
   "source": [
    "# Use decision tree classifier\n",
    "dt = DecisionTreeClassifier(random_state=0)\n",
    "\n",
    "# Fit model to data\n",
    "dt.fit(X_train, Y_train)"
   ]
  },
  {
   "cell_type": "code",
   "execution_count": 14,
   "metadata": {
    "collapsed": true
   },
   "outputs": [],
   "source": [
    "# Make predictions on test set\n",
    "dt_preds = dt.predict(X_test)\n",
    "\n",
    "# Predict probabilities\n",
    "dt_probs = dt.predict_proba(X_test)"
   ]
  },
  {
   "cell_type": "markdown",
   "metadata": {},
   "source": [
    "## Step 6: Evaluate model accuracy"
   ]
  },
  {
   "cell_type": "code",
   "execution_count": 15,
   "metadata": {},
   "outputs": [
    {
     "name": "stdout",
     "output_type": "stream",
     "text": [
      "[[56 95]\n",
      " [66 54]]\n"
     ]
    }
   ],
   "source": [
    "# Confusion matrix\n",
    "print(confusion_matrix(Y_test, dt_preds))"
   ]
  },
  {
   "cell_type": "code",
   "execution_count": 16,
   "metadata": {},
   "outputs": [
    {
     "name": "stdout",
     "output_type": "stream",
     "text": [
      "Accuracy: 40.59 percent\n",
      "Precision: 36.24 percent\n",
      "Recall: 45.00 percent\n"
     ]
    }
   ],
   "source": [
    "print(\"Accuracy: %.2f percent\" % np.multiply(100.0,accuracy_score(Y_test, dt_preds)))\n",
    "print(\"Precision: %.2f percent\" % np.multiply(100.0,precision_score(Y_test, dt_preds)))\n",
    "print(\"Recall: %.2f percent\" % np.multiply(100.0,recall_score(Y_test, dt_preds)))"
   ]
  },
  {
   "cell_type": "code",
   "execution_count": 17,
   "metadata": {},
   "outputs": [
    {
     "data": {
      "image/png": "[encoded data removed]",
      "text/plain": [
       "<matplotlib.figure.Figure at 0x26a97ee9048>"
      ]
     },
     "metadata": {},
     "output_type": "display_data"
    }
   ],
   "source": [
    "# ROC Curve\n",
    "fpr, tpr, threshold = roc_curve(Y_test, dt_preds)\n",
    "roc_auc = auc(fpr, tpr)\n",
    "\n",
    "plt.title('Decision Tree ROC')\n",
    "plt.plot(fpr, tpr, 'b', label = 'DT AUC = %0.2f' % roc_auc)\n",
    "plt.legend(loc = 'lower right')\n",
    "plt.plot([0, 1], [0, 1],'r--')\n",
    "plt.xlim([0, 1])\n",
    "plt.ylim([0, 1])\n",
    "plt.ylabel('True Positive Rate')\n",
    "plt.xlabel('False Positive Rate')\n",
    "plt.show()\n"
   ]
  },
  {
   "cell_type": "markdown",
   "metadata": {},
   "source": [
    "## Step 7: Test other types of models"
   ]
  },
  {
   "cell_type": "markdown",
   "metadata": {},
   "source": [
    "### Step 7a: Random Forest"
   ]
  },
  {
   "cell_type": "code",
   "execution_count": 18,
   "metadata": {},
   "outputs": [
    {
     "data": {
      "text/plain": [
       "RandomForestClassifier(bootstrap=True, class_weight=None, criterion='gini',\n",
       "            max_depth=None, max_features='auto', max_leaf_nodes=None,\n",
       "            min_impurity_decrease=0.0, min_impurity_split=None,\n",
       "            min_samples_leaf=1, min_samples_split=2,\n",
       "            min_weight_fraction_leaf=0.0, n_estimators=20, n_jobs=1,\n",
       "            oob_score=False, random_state=0, verbose=0, warm_start=False)"
      ]
     },
     "execution_count": 18,
     "metadata": {},
     "output_type": "execute_result"
    }
   ],
   "source": [
    "n_trees = 20\n",
    "\n",
    "rf = RandomForestClassifier(n_estimators=n_trees, random_state=0)\n",
    "\n",
    "rf.fit(X_train, Y_train)"
   ]
  },
  {
   "cell_type": "code",
   "execution_count": 19,
   "metadata": {
    "collapsed": true
   },
   "outputs": [],
   "source": [
    "# Make predictions on test set\n",
    "rf_preds = rf.predict(X_test)\n",
    "\n",
    "# Predict probabilities\n",
    "rf_probs = rf.predict_proba(X_test)"
   ]
  },
  {
   "cell_type": "code",
   "execution_count": 20,
   "metadata": {},
   "outputs": [
    {
     "name": "stdout",
     "output_type": "stream",
     "text": [
      "[[100  51]\n",
      " [ 80  40]]\n"
     ]
    }
   ],
   "source": [
    "# Confusion matrix\n",
    "print(confusion_matrix(Y_test, rf_preds))"
   ]
  },
  {
   "cell_type": "code",
   "execution_count": 21,
   "metadata": {},
   "outputs": [
    {
     "name": "stdout",
     "output_type": "stream",
     "text": [
      "Accuracy: 51.66 percent\n",
      "Precision: 43.96 percent\n",
      "Recall: 33.33 percent\n"
     ]
    }
   ],
   "source": [
    "print(\"Accuracy: %.2f percent\" % np.multiply(100.0,accuracy_score(Y_test, rf_preds)))\n",
    "print(\"Precision: %.2f percent\" % np.multiply(100.0,precision_score(Y_test, rf_preds)))\n",
    "print(\"Recall: %.2f percent\" % np.multiply(100.0,recall_score(Y_test, rf_preds)))"
   ]
  },
  {
   "cell_type": "code",
   "execution_count": 22,
   "metadata": {},
   "outputs": [
    {
     "data": {
      "image/png": "[encoded data removed]",
      "text/plain": [
       "<matplotlib.figure.Figure at 0x26a97881ac8>"
      ]
     },
     "metadata": {},
     "output_type": "display_data"
    }
   ],
   "source": [
    "# ROC Curve\n",
    "fpr, tpr, threshold = roc_curve(Y_test, rf_preds)\n",
    "roc_auc = auc(fpr, tpr)\n",
    "\n",
    "plt.title('Random Forest ROC')\n",
    "plt.plot(fpr, tpr, 'b', label = 'RF AUC = %0.2f' % roc_auc)\n",
    "plt.legend(loc = 'lower right')\n",
    "plt.plot([0, 1], [0, 1],'r--')\n",
    "plt.xlim([0, 1])\n",
    "plt.ylim([0, 1])\n",
    "plt.ylabel('True Positive Rate')\n",
    "plt.xlabel('False Positive Rate')\n",
    "plt.show()\n"
   ]
  },
  {
   "cell_type": "markdown",
   "metadata": {},
   "source": [
    "### Step 7b: Support Vector Machine"
   ]
  },
  {
   "cell_type": "code",
   "execution_count": 23,
   "metadata": {},
   "outputs": [
    {
     "data": {
      "text/plain": [
       "SVC(C=1.0, cache_size=200, class_weight=None, coef0=0.0,\n",
       "  decision_function_shape='ovr', degree=3, gamma='auto', kernel='rbf',\n",
       "  max_iter=-1, probability=True, random_state=0, shrinking=True, tol=0.001,\n",
       "  verbose=False)"
      ]
     },
     "execution_count": 23,
     "metadata": {},
     "output_type": "execute_result"
    }
   ],
   "source": [
    "svm = SVC(kernel='rbf',probability=True, random_state=0)\n",
    "\n",
    "svm.fit(X_train, Y_train)"
   ]
  },
  {
   "cell_type": "code",
   "execution_count": 24,
   "metadata": {},
   "outputs": [],
   "source": [
    "# Make predictions on test set\n",
    "svm_preds = svm.predict(X_test)\n",
    "\n",
    "# Predict probabilities\n",
    "svm_probs = svm.predict_proba(X_test)"
   ]
  },
  {
   "cell_type": "code",
   "execution_count": 25,
   "metadata": {},
   "outputs": [
    {
     "name": "stdout",
     "output_type": "stream",
     "text": [
      "[[131  20]\n",
      " [ 96  24]]\n"
     ]
    }
   ],
   "source": [
    "# Confusion matrix\n",
    "print(confusion_matrix(Y_test, svm_preds))"
   ]
  },
  {
   "cell_type": "code",
   "execution_count": 26,
   "metadata": {},
   "outputs": [
    {
     "name": "stdout",
     "output_type": "stream",
     "text": [
      "Accuracy: 57.20 percent\n",
      "Precision: 54.55 percent\n",
      "Recall: 20.00 percent\n"
     ]
    }
   ],
   "source": [
    "print(\"Accuracy: %.2f percent\" % np.multiply(100.0,accuracy_score(Y_test, svm_preds)))\n",
    "print(\"Precision: %.2f percent\" % np.multiply(100.0,precision_score(Y_test, svm_preds)))\n",
    "print(\"Recall: %.2f percent\" % np.multiply(100.0,recall_score(Y_test, svm_preds)))"
   ]
  },
  {
   "cell_type": "code",
   "execution_count": 27,
   "metadata": {
    "scrolled": true
   },
   "outputs": [
    {
     "data": {
      "image/png": "[encoded data removed]",
      "text/plain": [
       "<matplotlib.figure.Figure at 0x26a97f66630>"
      ]
     },
     "metadata": {},
     "output_type": "display_data"
    }
   ],
   "source": [
    "# ROC Curve\n",
    "fpr, tpr, threshold = roc_curve(Y_test, svm_preds)\n",
    "roc_auc = auc(fpr, tpr)\n",
    "\n",
    "plt.title('Support Vector Machine ROC')\n",
    "plt.plot(fpr, tpr, 'b', label = 'SVM AUC = %0.2f' % roc_auc)\n",
    "plt.legend(loc = 'lower right')\n",
    "plt.plot([0, 1], [0, 1],'r--')\n",
    "plt.xlim([0, 1])\n",
    "plt.ylim([0, 1])\n",
    "plt.ylabel('True Positive Rate')\n",
    "plt.xlabel('False Positive Rate')\n",
    "plt.show()\n"
   ]
  },
  {
   "cell_type": "markdown",
   "metadata": {},
   "source": [
    "### Step 7c: Neural Network"
   ]
  },
  {
   "cell_type": "code",
   "execution_count": 28,
   "metadata": {},
   "outputs": [
    {
     "data": {
      "text/plain": [
       "MLPClassifier(activation='relu', alpha=0.0001, batch_size='auto', beta_1=0.9,\n",
       "       beta_2=0.999, early_stopping=False, epsilon=1e-08,\n",
       "       hidden_layer_sizes=(100,), learning_rate='constant',\n",
       "       learning_rate_init=0.001, max_iter=200, momentum=0.9,\n",
       "       nesterovs_momentum=True, power_t=0.5, random_state=0, shuffle=True,\n",
       "       solver='adam', tol=0.0001, validation_fraction=0.1, verbose=False,\n",
       "       warm_start=False)"
      ]
     },
     "execution_count": 28,
     "metadata": {},
     "output_type": "execute_result"
    }
   ],
   "source": [
    "nnet = MLPClassifier(random_state=0)\n",
    "\n",
    "nnet.fit(X_train, Y_train)"
   ]
  },
  {
   "cell_type": "code",
   "execution_count": 29,
   "metadata": {
    "collapsed": true
   },
   "outputs": [],
   "source": [
    "# Make predictions on test set\n",
    "nnet_preds = nnet.predict(X_test)\n",
    "\n",
    "# Predict probabilities\n",
    "nnet_probs = nnet.predict_proba(X_test)"
   ]
  },
  {
   "cell_type": "code",
   "execution_count": 30,
   "metadata": {},
   "outputs": [
    {
     "name": "stdout",
     "output_type": "stream",
     "text": [
      "[[59 92]\n",
      " [50 70]]\n"
     ]
    }
   ],
   "source": [
    "# Confusion matrix\n",
    "print(confusion_matrix(Y_test, nnet_preds))"
   ]
  },
  {
   "cell_type": "code",
   "execution_count": 31,
   "metadata": {},
   "outputs": [
    {
     "name": "stdout",
     "output_type": "stream",
     "text": [
      "Accuracy: 47.60 percent\n",
      "Precision: 43.21 percent\n",
      "Recall: 58.33 percent\n"
     ]
    }
   ],
   "source": [
    "print(\"Accuracy: %.2f percent\" % np.multiply(100.0,accuracy_score(Y_test, nnet_preds)))\n",
    "print(\"Precision: %.2f percent\" % np.multiply(100.0,precision_score(Y_test, nnet_preds)))\n",
    "print(\"Recall: %.2f percent\" % np.multiply(100.0,recall_score(Y_test, nnet_preds)))"
   ]
  },
  {
   "cell_type": "code",
   "execution_count": 32,
   "metadata": {
    "scrolled": true
   },
   "outputs": [
    {
     "data": {
      "image/png": "[encoded data removed]",
      "text/plain": [
       "<matplotlib.figure.Figure at 0x26a983bc780>"
      ]
     },
     "metadata": {},
     "output_type": "display_data"
    }
   ],
   "source": [
    "# ROC Curve\n",
    "fpr, tpr, threshold = roc_curve(Y_test, nnet_preds)\n",
    "roc_auc = auc(fpr, tpr)\n",
    "\n",
    "plt.title('Neural Network ROC')\n",
    "plt.plot(fpr, tpr, 'b', label = 'NN AUC = %0.2f' % roc_auc)\n",
    "plt.legend(loc = 'lower right')\n",
    "plt.plot([0, 1], [0, 1],'r--')\n",
    "plt.xlim([0, 1])\n",
    "plt.ylim([0, 1])\n",
    "plt.ylabel('True Positive Rate')\n",
    "plt.xlabel('False Positive Rate')\n",
    "plt.show()\n"
   ]
  },
  {
   "cell_type": "markdown",
   "metadata": {},
   "source": [
    "### Step 7d: Summarize results"
   ]
  },
  {
   "cell_type": "code",
   "execution_count": 33,
   "metadata": {},
   "outputs": [
    {
     "data": {
      "text/html": [
       "<div>\n",
       "<style>\n",
       "    .dataframe thead tr:only-child th {\n",
       "        text-align: right;\n",
       "    }\n",
       "\n",
       "    .dataframe thead th {\n",
       "        text-align: left;\n",
       "    }\n",
       "\n",
       "    .dataframe tbody tr th {\n",
       "        vertical-align: top;\n",
       "    }\n",
       "</style>\n",
       "<table border=\"1\" class=\"dataframe\">\n",
       "  <thead>\n",
       "    <tr style=\"text-align: right;\">\n",
       "      <th></th>\n",
       "      <th>AUC</th>\n",
       "      <th>Accuracy</th>\n",
       "      <th>Precision</th>\n",
       "      <th>Recall</th>\n",
       "    </tr>\n",
       "  </thead>\n",
       "  <tbody>\n",
       "    <tr>\n",
       "      <th>Decision Tree</th>\n",
       "      <td>0.410430</td>\n",
       "      <td>0.405904</td>\n",
       "      <td>0.362416</td>\n",
       "      <td>0.450000</td>\n",
       "    </tr>\n",
       "    <tr>\n",
       "      <th>Random Forest</th>\n",
       "      <td>0.497792</td>\n",
       "      <td>0.516605</td>\n",
       "      <td>0.439560</td>\n",
       "      <td>0.333333</td>\n",
       "    </tr>\n",
       "    <tr>\n",
       "      <th>SVM</th>\n",
       "      <td>0.533775</td>\n",
       "      <td>0.571956</td>\n",
       "      <td>0.545455</td>\n",
       "      <td>0.200000</td>\n",
       "    </tr>\n",
       "    <tr>\n",
       "      <th>Neural Network</th>\n",
       "      <td>0.487031</td>\n",
       "      <td>0.476015</td>\n",
       "      <td>0.432099</td>\n",
       "      <td>0.583333</td>\n",
       "    </tr>\n",
       "  </tbody>\n",
       "</table>\n",
       "</div>"
      ],
      "text/plain": [
       "                     AUC  Accuracy  Precision    Recall\n",
       "Decision Tree   0.410430  0.405904   0.362416  0.450000\n",
       "Random Forest   0.497792  0.516605   0.439560  0.333333\n",
       "SVM             0.533775  0.571956   0.545455  0.200000\n",
       "Neural Network  0.487031  0.476015   0.432099  0.583333"
      ]
     },
     "execution_count": 33,
     "metadata": {},
     "output_type": "execute_result"
    }
   ],
   "source": [
    "# Summarize results\n",
    "\n",
    "models = [\"Decision Tree\", \"Random Forest\", \"SVM\", \"Neural Network\"]\n",
    "precision_scores = []\n",
    "recall_scores = []\n",
    "accuracy_scores = []\n",
    "auc_scores =[]\n",
    "\n",
    "for preds in [dt_preds, rf_preds, svm_preds, nnet_preds]:\n",
    "    precision_scores.append(precision_score(Y_test, preds))\n",
    "    recall_scores.append(recall_score(Y_test, preds))\n",
    "    accuracy_scores.append(accuracy_score(Y_test, preds))\n",
    "    fpr, tpr, threshold = roc_curve(Y_test, preds)\n",
    "    roc_auc = auc(fpr, tpr)\n",
    "    auc_scores.append(roc_auc)\n",
    "    \n",
    "results = pd.DataFrame({\"Accuracy\" : accuracy_scores, \"Precision\" : precision_scores,  \n",
    "                       \"Recall\" : recall_scores, \"AUC\" : auc_scores}, index=models)\n",
    "    \n",
    "results"
   ]
  },
  {
   "cell_type": "code",
   "execution_count": null,
   "metadata": {
    "collapsed": true
   },
   "outputs": [],
   "source": []
  }
 ],
 "metadata": {
  "kernelspec": {
   "display_name": "Python 3",
   "language": "python",
   "name": "python3"
  },
  "language_info": {
   "codemirror_mode": {
    "name": "ipython",
    "version": 3
   },
   "file_extension": ".py",
   "mimetype": "text/x-python",
   "name": "python",
   "nbconvert_exporter": "python",
   "pygments_lexer": "ipython3",
   "version": "3.6.3"
  }
 },
 "nbformat": 4,
 "nbformat_minor": 2
}
